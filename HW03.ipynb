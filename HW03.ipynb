{
 "cells": [
  {
   "cell_type": "markdown",
   "metadata": {},
   "source": [
    "# Homework 03 \n",
    "\n",
    "## Katie Hutschenreuter\n",
    "## Due Tuesday, February 16th"
   ]
  },
  {
   "cell_type": "code",
   "execution_count": 1,
   "metadata": {
    "collapsed": true
   },
   "outputs": [],
   "source": [
    "import numpy as np"
   ]
  },
  {
   "cell_type": "markdown",
   "metadata": {},
   "source": [
    "### 1. Vector manipulation\n",
    "\n",
    "Create a vector of zeros of size 10 but have the fifth value be 1."
   ]
  },
  {
   "cell_type": "code",
   "execution_count": 14,
   "metadata": {
    "collapsed": false
   },
   "outputs": [
    {
     "data": {
      "text/plain": [
       "array([ 0.,  0.,  0.,  0.,  0.,  1.,  0.,  0.,  0.,  0.])"
      ]
     },
     "execution_count": 14,
     "metadata": {},
     "output_type": "execute_result"
    }
   ],
   "source": [
    "a=np.zeros(10)\n",
    "a[5]=1\n",
    "a"
   ]
  },
  {
   "cell_type": "markdown",
   "metadata": {},
   "source": [
    "### 2. Vector range\n",
    "\n",
    "Create a vector with values ranging from 10 to 49, inclusive."
   ]
  },
  {
   "cell_type": "code",
   "execution_count": 17,
   "metadata": {
    "collapsed": false
   },
   "outputs": [
    {
     "data": {
      "text/plain": [
       "array([ 10.        ,  10.79591837,  11.59183673,  12.3877551 ,\n",
       "        13.18367347,  13.97959184,  14.7755102 ,  15.57142857,\n",
       "        16.36734694,  17.16326531,  17.95918367,  18.75510204,\n",
       "        19.55102041,  20.34693878,  21.14285714,  21.93877551,\n",
       "        22.73469388,  23.53061224,  24.32653061,  25.12244898,\n",
       "        25.91836735,  26.71428571,  27.51020408,  28.30612245,\n",
       "        29.10204082,  29.89795918,  30.69387755,  31.48979592,\n",
       "        32.28571429,  33.08163265,  33.87755102,  34.67346939,\n",
       "        35.46938776,  36.26530612,  37.06122449,  37.85714286,\n",
       "        38.65306122,  39.44897959,  40.24489796,  41.04081633,\n",
       "        41.83673469,  42.63265306,  43.42857143,  44.2244898 ,\n",
       "        45.02040816,  45.81632653,  46.6122449 ,  47.40816327,\n",
       "        48.20408163,  49.        ])"
      ]
     },
     "execution_count": 17,
     "metadata": {},
     "output_type": "execute_result"
    }
   ],
   "source": [
    "b=np.linspace(10,49)\n",
    "b"
   ]
  },
  {
   "cell_type": "markdown",
   "metadata": {},
   "source": [
    "### 3. Reverse a vector\n",
    "\n",
    "Write a function, `reverse(x)` which reverses a vector, so that the first element becomes the last element. The API should be\n",
    "\n",
    "    return a 1D vector with the elements reversed\n",
    "    \n",
    "    Input\n",
    "    -----\n",
    "        x: 1D array\n",
    "    \n",
    "    Output\n",
    "    ------\n",
    "        res: 1D array, with the elements of `x` reversed\n",
    "\n",
    "Include this (or an equivalent description) in the function's docstring."
   ]
  },
  {
   "cell_type": "code",
   "execution_count": 6,
   "metadata": {
    "collapsed": false
   },
   "outputs": [
    {
     "name": "stdout",
     "output_type": "stream",
     "text": [
      "x =  [ 0.98264566  0.47838511  0.21810108  0.19628157  0.92191223  0.08546716\n",
      "  0.90060253  0.79432761  0.67315762  0.40398425]\n",
      "res =  [ 0.40398425  0.67315762  0.79432761  0.90060253  0.08546716  0.92191223\n",
      "  0.19628157  0.21810108  0.47838511  0.98264566]\n"
     ]
    }
   ],
   "source": [
    "def reverse(x):\n",
    "    '''return a 1D vector with the elements reversed\n",
    "    \n",
    "    Input\n",
    "    -----\n",
    "        x: 1D array\n",
    "    \n",
    "    Output\n",
    "    ------\n",
    "        res: 1D array, with the elements of `x` reversed'''\n",
    "    \n",
    "    res=x[::-1]\n",
    "    return res\n",
    "\n",
    "x=np.random.rand(10)\n",
    "print('x = ',x)\n",
    "print('res = ',reverse(x))\n"
   ]
  },
  {
   "cell_type": "markdown",
   "metadata": {},
   "source": [
    "### 4. Find indices of non-zero elements\n",
    "\n",
    "Write a function `find_nonzero(x)` that finds the indices of non-zero elements, with an API like\n",
    "\n",
    "    return the indices of non-zero elements of an array.\n",
    "\n",
    "    Input:      x:  array\n",
    "    Output:     indices: array of integer indices\n",
    "\n",
    "Use the function to get out the non-zero elements from an array containing the elements [1,2,0,0,4,0]."
   ]
  },
  {
   "cell_type": "code",
   "execution_count": 8,
   "metadata": {
    "collapsed": false
   },
   "outputs": [
    {
     "name": "stdout",
     "output_type": "stream",
     "text": [
      "ind =  [0 1 4]\n"
     ]
    }
   ],
   "source": [
    "def find_nonzero(x):\n",
    "    '''return the indices of non-zero elements of an array.\n",
    "\n",
    "    Input:      x:  array\n",
    "    Output:     indices: array of integer indices'''\n",
    "    ind = np.where(x!=0)\n",
    "    return ind[0]\n",
    "\n",
    "c=np.array([1,2,0,0,4,0])\n",
    "ind = find_nonzero(c)\n",
    "print('ind = ',ind)    \n",
    "    "
   ]
  },
  {
   "cell_type": "markdown",
   "metadata": {},
   "source": [
    "### 5. Array with random values\n",
    "\n",
    "Create a 3x3x3 array with normally distributed ($\\mu =0, \\sigma=1)$ random values."
   ]
  },
  {
   "cell_type": "code",
   "execution_count": 16,
   "metadata": {
    "collapsed": false
   },
   "outputs": [
    {
     "data": {
      "text/plain": [
       "array([[[ -3.24882940e-01,  -9.35289292e-01,  -7.74547416e-01],\n",
       "        [  5.05615221e-01,  -1.06392239e+00,   9.54122721e-01],\n",
       "        [  1.32252572e+00,   3.26919086e+00,  -5.15210613e-01]],\n",
       "\n",
       "       [[ -5.64248341e-01,  -4.46124725e-01,  -1.79853186e-01],\n",
       "        [ -5.73053252e-01,   1.05903302e+00,   9.31550903e-01],\n",
       "        [ -5.60446546e-01,  -2.71918877e-01,  -7.41880972e-02]],\n",
       "\n",
       "       [[  3.99880540e-01,   9.16217052e-01,   4.24908217e-01],\n",
       "        [ -3.18450774e-01,  -5.68698534e-01,   3.73093446e-01],\n",
       "        [  1.20324647e+00,  -7.59244727e-01,  -1.29706119e-03]]])"
      ]
     },
     "execution_count": 16,
     "metadata": {},
     "output_type": "execute_result"
    }
   ],
   "source": [
    "d=np.random.normal(0.0,1.0,(3,3,3))\n",
    "d"
   ]
  },
  {
   "cell_type": "markdown",
   "metadata": {},
   "source": [
    "### 6. Operations on an array with random values\n",
    "\n",
    "Create a 10x10 array with random values. Find \n",
    "- the minimum value of the 2nd row\n",
    "- the maximum value of the 4th column"
   ]
  },
  {
   "cell_type": "code",
   "execution_count": 4,
   "metadata": {
    "collapsed": false
   },
   "outputs": [
    {
     "name": "stdout",
     "output_type": "stream",
     "text": [
      "The minimum value of row 2 =  0.052453680807\n",
      "The maximum value of row 4 =  0.919089468584\n"
     ]
    }
   ],
   "source": [
    "e=np.random.rand(10,10)\n",
    "min_2=np.amin(e,axis=1)[1]\n",
    "max_4=np.amax(e,axis=0)[3]\n",
    "print('The minimum value of row 2 = ',min_2)\n",
    "print('The maximum value of row 4 = ',max_4)"
   ]
  },
  {
   "cell_type": "markdown",
   "metadata": {},
   "source": [
    "### 7. Vector without end points\n",
    "\n",
    "Create a vector of size 10 with values ranging from 0 to 1, both excluded."
   ]
  },
  {
   "cell_type": "code",
   "execution_count": 19,
   "metadata": {
    "collapsed": false
   },
   "outputs": [
    {
     "data": {
      "text/plain": [
       "array([ 0.09090909,  0.18181818,  0.27272727,  0.36363636,  0.45454545,\n",
       "        0.54545455,  0.63636364,  0.72727273,  0.81818182,  0.90909091])"
      ]
     },
     "execution_count": 19,
     "metadata": {},
     "output_type": "execute_result"
    }
   ],
   "source": [
    "f=np.linspace(0,1,12,endpoint=True)[1:11]\n",
    "f\n",
    "#I know there has to be a better way to do this but I can only figure out\n",
    "#how to not include 1 not 0."
   ]
  },
  {
   "cell_type": "markdown",
   "metadata": {},
   "source": [
    "### 8. Sorted random vector\n",
    "\n",
    "Create a random vector of size 10, then sort it."
   ]
  },
  {
   "cell_type": "code",
   "execution_count": 17,
   "metadata": {
    "collapsed": false
   },
   "outputs": [
    {
     "name": "stdout",
     "output_type": "stream",
     "text": [
      "g = \n",
      " [ 0.06920415  0.46032954  0.60904596  0.70786765  0.78886588  0.03459583\n",
      "  0.1650901   0.76924152  0.28425151  0.9456133 ]\n",
      "g sorted = \n",
      " [ 0.03459583  0.06920415  0.1650901   0.28425151  0.46032954  0.60904596\n",
      "  0.70786765  0.76924152  0.78886588  0.9456133 ]\n"
     ]
    }
   ],
   "source": [
    "g=np.random.rand(10)\n",
    "print('g = \\n',g)\n",
    "g.sort()\n",
    "print('g sorted = \\n',g)"
   ]
  },
  {
   "cell_type": "markdown",
   "metadata": {},
   "source": [
    "### 9. Test for array equality\n",
    "\n",
    "Write a function `is_equal(A, B)` that compare two arrays `A` and `B` and checks to see if they are equal. \n",
    "\n",
    "    return True if two arrays are the same shape and all the elements are equal.\n",
    "    \n",
    "    Inputs:\n",
    "        A, B:  array\n",
    "    Output:\n",
    "        Bool:  True if A and B have the same shape and identical elements.\n",
    "\n",
    "The arrays count as equal if they are the same shape and all elements in the array are equal."
   ]
  },
  {
   "cell_type": "code",
   "execution_count": 58,
   "metadata": {
    "collapsed": false
   },
   "outputs": [
    {
     "data": {
      "text/plain": [
       "True"
      ]
     },
     "execution_count": 58,
     "metadata": {},
     "output_type": "execute_result"
    }
   ],
   "source": [
    "def is_equal(A,B):\n",
    "\n",
    "    h=A.shape!=B.shape              #Tests if A and B are the same shape\n",
    "    if A.shape==B.shape:          \n",
    "        i=np.where(A==B)            #Finds the indices where A and B are the same\n",
    "        newA=A[i]                   #Creates newA with the indices that are the same\n",
    "        h=newA.shape==B.shape       #Tests if shape of newA and B are the same\n",
    "    return h\n",
    "\n",
    "A=np.linspace(1,5,5)\n",
    "B=np.linspace(1,5,5)\n",
    "is_equal(A,B)"
   ]
  },
  {
   "cell_type": "markdown",
   "metadata": {},
   "source": [
    "### 10. Subtract the row mean from rows of a matrix\n",
    "\n",
    "Create a matrix. Then subtract the mean of each row of the matrix from the respective row. Do this without using a loop (that is, using array operations)."
   ]
  },
  {
   "cell_type": "code",
   "execution_count": 19,
   "metadata": {
    "collapsed": false
   },
   "outputs": [
    {
     "name": "stdout",
     "output_type": "stream",
     "text": [
      "Origional matrix = \n",
      " [[ 0  1  2  3  4]\n",
      " [ 5  6  7  8  9]\n",
      " [10 11 12 13 14]]\n",
      "New matrix = \n",
      " [[-2. -1.  0.  1.  2.]\n",
      " [-2. -1.  0.  1.  2.]\n",
      " [-2. -1.  0.  1.  2.]]\n"
     ]
    }
   ],
   "source": [
    "i=np.arange(15).reshape(3,5)\n",
    "s=i.shape\n",
    "m=np.mean(i,axis=1).reshape(s[0],1)\n",
    "new_matrix = i-m\n",
    "print('Origional matrix = \\n',i)\n",
    "print('New matrix = \\n',new_matrix)"
   ]
  },
  {
   "cell_type": "markdown",
   "metadata": {},
   "source": [
    "### 11. Multiply arrays\n",
    "\n",
    "Multiply an array of dimension (5,5,3) with an array with dimensions (5,5). Then multiply an array of dimension (3,5,5) with an array of dimension (5,5)."
   ]
  },
  {
   "cell_type": "code",
   "execution_count": 93,
   "metadata": {
    "collapsed": false
   },
   "outputs": [
    {
     "data": {
      "text/plain": [
       "(3, 5, 5)"
      ]
     },
     "execution_count": 93,
     "metadata": {},
     "output_type": "execute_result"
    }
   ],
   "source": [
    "j=np.random.rand(5,5,3)\n",
    "k=np.random.rand(5,5)\n",
    "l=np.random.rand(3,5,5)\n",
    "#num1=j*k              #Operands could not be broadcast\n",
    "num2=l*k               #Returns an array with shape (3,5,5)"
   ]
  },
  {
   "cell_type": "markdown",
   "metadata": {},
   "source": [
    "### 12. Creating a new array\n",
    "\n",
    "Starting with an array\n",
    "\n",
    "    Z = [1,2,3,4,5,6,7,8,9,10,11,12,13,14].\n",
    "    \n",
    "Generate an array \n",
    "\n",
    "    R = [[1,2,3,4], [2,3,4,5], [3,4,5,6], ..., [11,12,13,14]]. "
   ]
  },
  {
   "cell_type": "code",
   "execution_count": 20,
   "metadata": {
    "collapsed": false
   },
   "outputs": [
    {
     "name": "stdout",
     "output_type": "stream",
     "text": [
      "Z = \n",
      " [ 1  2  3  4  5  6  7  8  9 10 11 12 13 14]\n",
      "R = \n",
      " [array([1, 2, 3, 4]), array([2, 3, 4, 5]), array([3, 4, 5, 6]), array([4, 5, 6, 7]), array([5, 6, 7, 8]), array([6, 7, 8, 9]), array([ 7,  8,  9, 10]), array([ 8,  9, 10, 11]), array([ 9, 10, 11, 12]), array([10, 11, 12, 13]), array([11, 12, 13, 14])]\n"
     ]
    }
   ],
   "source": [
    "Z = np.array([1,2,3,4,5,6,7,8,9,10,11,12,13,14])\n",
    "print('Z = \\n',Z)\n",
    "R=[Z[i:i+4] for i,num in enumerate(Z[0:11])]\n",
    "print('R = \\n',R)\n"
   ]
  },
  {
   "cell_type": "markdown",
   "metadata": {},
   "source": [
    "### 13. Convert from Cartesian to polar coordinates\n",
    "\n",
    "Write a function `cart2polar(xy)` which takes in an Nx2 matrix of `x, y` pairs representing Cartesian coordinates and return the locations represented in polar coordinates in the same shape matrix. The API is\n",
    "\n",
    "    Return equivalent polar coordinates of specified cartesian points.\n",
    "    \n",
    "    Inputs:\n",
    "        xy: array\n",
    "             Nx2 array of Cartesian coordinates, with columns x and y respectively.\n",
    "\n",
    "    Returns:\n",
    "        rp: array\n",
    "            Nx2 array of polar coordinates, with columns radius and angle respectively\n",
    "\n"
   ]
  },
  {
   "cell_type": "code",
   "execution_count": 101,
   "metadata": {
    "collapsed": false
   },
   "outputs": [
    {
     "data": {
      "text/plain": [
       "array([[ 0.36427008,  1.47960262],\n",
       "       [ 1.17752442,  0.97638685],\n",
       "       [ 1.03498626,  0.47405164],\n",
       "       [ 0.70116397,  1.03270574],\n",
       "       [ 0.79636328,  0.29332645],\n",
       "       [ 0.97429402,  1.52326294],\n",
       "       [ 0.99174344,  1.07796572],\n",
       "       [ 0.96867355,  0.2825646 ],\n",
       "       [ 0.7766216 ,  1.3377241 ],\n",
       "       [ 0.81452067,  0.99296515]])"
      ]
     },
     "execution_count": 101,
     "metadata": {},
     "output_type": "execute_result"
    }
   ],
   "source": [
    "def cart2polar(xy):\n",
    "    '''Return equivalent polar coordinates of specified cartesian points.\n",
    "\n",
    "    Inputs:\n",
    "    xy: array\n",
    "         Nx2 array of Cartesian coordinates, with columns x and y respectively.\n",
    "\n",
    "    Returns:\n",
    "    rp: array\n",
    "        Nx2 array of polar coordinates, with columns radius and angle respectively'''\n",
    "    x=xy.T[0]\n",
    "    y=xy.T[1]\n",
    "    r=np.sqrt((x**2)+(y**2))\n",
    "    theta=np.arctan(y/x)\n",
    "    rp=np.array([r,theta]).T\n",
    "    return rp\n",
    "\n",
    "nums=np.random.rand(10,2)\n",
    "cart2polar(nums)"
   ]
  },
  {
   "cell_type": "markdown",
   "metadata": {},
   "source": [
    "### 14. Compute and time for loops and array operations.\n",
    "\n",
    "Calculate the time it takes to do what we did in class\n",
    "\n",
    "    a = np.arange(1024.0).reshape(4, 8, 16, 2)   # a 4D array using sequential numbers\n",
    "    b = np.random.rand(4, 8, 16, 2)              # a 4D array using random numbers\n",
    "    sol = a * b  # element-by-element multiplication. This operation is about as fast as it can be on your computer.\n",
    "\n",
    "and the time required for doing the same operation with a series of 4 `for` loops, one for each dimension of the arrays. Compare the times by calculating a ratio."
   ]
  },
  {
   "cell_type": "code",
   "execution_count": 17,
   "metadata": {
    "collapsed": false
   },
   "outputs": [
    {
     "name": "stdout",
     "output_type": "stream",
     "text": [
      "0.0002 seconds have passed.\n"
     ]
    }
   ],
   "source": [
    "#Done\n",
    "a = np.arange(1024.0).reshape(4, 8, 16, 2)   # a 4D array using sequential numbers\n",
    "b = np.random.rand(4, 8, 16, 2)              # a 4D array using random numbers\n",
    "\n",
    "import time\n",
    "t_start=time.time()\n",
    "\n",
    "sol = a * b  # element-by-element multiplication. This operation is about as fast as it can be on your computer.\n",
    "\n",
    "t_stop=time.time()\n",
    "t_passed_1=t_stop-t_start\n",
    "print('{:6.4f} seconds have passed.'.format(t_stop-t_start))"
   ]
  },
  {
   "cell_type": "code",
   "execution_count": 18,
   "metadata": {
    "collapsed": false
   },
   "outputs": [
    {
     "name": "stdout",
     "output_type": "stream",
     "text": [
      "0.0025 seconds have passed.\n"
     ]
    }
   ],
   "source": [
    "a = np.arange(1024.0).reshape(4, 8, 16, 2)   # a 4D array using sequential numbers\n",
    "b = np.random.rand(4, 8, 16, 2)  \n",
    "\n",
    "import time\n",
    "t_start=time.time()\n",
    "\n",
    "solnew=np.ones(1024.0).reshape(4,8,16,2)\n",
    "for i in list(range(4)):\n",
    "    for j in list(range(8)):\n",
    "        for k in list(range(16)):\n",
    "            for l in list(range(2)):\n",
    "                sol = a[i,j,k,l]*b[i,j,k,l]\n",
    "                solnew[i,j,k,l]=sol\n",
    "\n",
    "t_stop=time.time()\n",
    "t_passed_2=t_stop-t_start\n",
    "print('{:6.4f} seconds have passed.'.format(t_stop-t_start))\n",
    "                "
   ]
  },
  {
   "cell_type": "code",
   "execution_count": 19,
   "metadata": {
    "collapsed": false
   },
   "outputs": [
    {
     "name": "stdout",
     "output_type": "stream",
     "text": [
      "10.9989:1 is the ratio of for loop multiplication to element-by-element multiplication\n"
     ]
    }
   ],
   "source": [
    "print('{:6.4f}:1 is the ratio of for loop multiplication to element-by-element multiplication'.format(t_passed_2/t_passed_1))"
   ]
  },
  {
   "cell_type": "markdown",
   "metadata": {},
   "source": [
    "### 15. Fix the code\n",
    "\n",
    "This code needs to be fixed so that it can run properly and pass the assertion test at the bottom. Write out what you changed to make it work and why it needed to be changed."
   ]
  },
  {
   "cell_type": "code",
   "execution_count": null,
   "metadata": {
    "collapsed": true
   },
   "outputs": [],
   "source": [
    "#Origional code\n",
    "def calculate(a, b):\n",
    "    \"\"\"Do some calculations\n",
    "    \n",
    "    Take in two arrays, subtract 1/4 of the [:2,:] elements from the elements themselves.\n",
    "    Then multiply with array b and return the result.\n",
    "    \n",
    "    Inputs:\n",
    "        a: input array, shape [MxN]\n",
    "        b: input array, shape [M]\n",
    "    \n",
    "    Returns:\n",
    "        resultant array\n",
    "    \"\"\"\n",
    "\n",
    "    aa = a[:2, :]\n",
    "    aa /= 4.\n",
    "    a[:2, :] -= aa\n",
    "\n",
    "    return a*b\n",
    "    \n",
    "\n",
    "a = np.ones((3, 2))\n",
    "b = np.ones(3)*3\n",
    "res = calculate(a, b)\n",
    "\n",
    "assert (res == np.array([[ 2.25,  2.25],[ 2.25,  2.25],[ 3., 3.]])).all()"
   ]
  },
  {
   "cell_type": "code",
   "execution_count": 43,
   "metadata": {
    "collapsed": false
   },
   "outputs": [
    {
     "name": "stdout",
     "output_type": "stream",
     "text": [
      "[[ 2.25  2.25]\n",
      " [ 2.25  2.25]\n",
      " [ 3.    3.  ]]\n"
     ]
    }
   ],
   "source": [
    "#Fixed code\n",
    "def calculate(a, b):\n",
    "    \"\"\"Do some calculations\n",
    "    \n",
    "    Take in two arrays, subtract 1/4 of the [:2,:] elements from the elements themselves.\n",
    "    Then multiply with array b and return the result.\n",
    "    \n",
    "    Inputs:\n",
    "        a: input array, shape [MxN]\n",
    "        b: input array, shape [M]\n",
    "    \n",
    "    Returns:\n",
    "        resultant array\n",
    "    \"\"\"\n",
    "\n",
    "    aa = a[:2, :]\n",
    "    aa = aa/ 4. \n",
    "    a[:2,:] = a[:2,:] - aa\n",
    "    res=a.T*b\n",
    "    \n",
    "    return res.T\n",
    "    \n",
    "\n",
    "a = np.ones((3,2))\n",
    "b = np.ones(3)*3\n",
    "\n",
    "res=calculate(a,b)\n",
    "print(res)\n",
    "assert (res == np.array([[ 2.25,  2.25],[ 2.25,  2.25],[ 3., 3.]])).all()"
   ]
  },
  {
   "cell_type": "markdown",
   "metadata": {
    "collapsed": false
   },
   "source": [
    "I changed the syntax of the 2nd and 3rd lines of the function \n",
    "\n",
    "    aa /= 4 --> aa= aa/4 \n",
    "    a[:2,:] -= aa --> a[:2,:]=a[:2,:]-aa\n",
    "    \n",
    "I changed what the function returned to make the matrix dimensions agree\n",
    "I multiplied a.T*b instead of a*b so the inner dimensions matched (both=3)\n",
    "I returned res.T to make the assertion statement true"
   ]
  },
  {
   "cell_type": "markdown",
   "metadata": {},
   "source": [
    "### 16. Calculate components of a vector\n",
    "\n",
    "Read in file `data/burl1h2010.txt`. This file gives a bunch of data from a wind station. In particular, read in the wind direction, `WDIR`, and wind speed, `WSPD`. Then, write a function that calculates and returns the `u` and `v` components of this wind vector, which point along the x- and y-axes.\n",
    "\n",
    "The function should have the following basic functionality:\n",
    "\n",
    "    Take in vector and return components.\n",
    "    \n",
    "    Inputs:\n",
    "        vdir: vector direction in degrees\n",
    "        vspd: vector magnitude\n",
    "        \n",
    "    Returns:\n",
    "        u: x component of vector\n",
    "        v: y component of vector\n",
    "\n"
   ]
  },
  {
   "cell_type": "code",
   "execution_count": 21,
   "metadata": {
    "collapsed": false
   },
   "outputs": [
    {
     "name": "stdout",
     "output_type": "stream",
     "text": [
      "u = \n",
      " [-1.39148661 -3.19668806 -1.21206139 ..., -9.04175518  4.27262701\n",
      "  7.13235823] \n",
      "v = \n",
      " [  2.65777445  -1.65565257  -3.06934964 ...,   6.94310185  11.10651423\n",
      "  -7.29173958]\n"
     ]
    }
   ],
   "source": [
    "data = np.loadtxt('/Users/KatieHutschenreuter/Desktop/python4geosciences/data/burl1h2010.txt')\n",
    "WDIR=data[:,5]\n",
    "WSPD=data[:,6]\n",
    "\n",
    "def polar2cart(vdir,vspd):\n",
    "    '''Take in vector and return components.\n",
    "\n",
    "    Inputs:\n",
    "    vdir: vector direction in degrees\n",
    "    vspd: vector magnitude\n",
    "\n",
    "    Returns:\n",
    "    u: x component of vector\n",
    "    v: y component of vector'''\n",
    "    \n",
    "    u=vspd*np.cos(vdir)\n",
    "    v=vspd*np.sin(vdir)\n",
    "    return [u,v]\n",
    "\n",
    "[u,v]=polar2cart(WDIR,WSPD)\n",
    "print('u = \\n',u, '\\nv = \\n',v)"
   ]
  },
  {
   "cell_type": "markdown",
   "metadata": {},
   "source": [
    "### 17. (Grad) Write and use a class\n",
    "\n",
    "Consider one of the data files located in `python4geosciences/data/MCH/`. Write a class, `dataclass`, to store some of the information in the file. The class should:\n",
    "\n",
    "* be initialized with the name of the file (without file type suffix of .cnv2), and the temperature and salinity values found in the file;\n",
    "* contain a method, `salt_mean`, which returns the mean of the salinity;\n",
    "* contain a method, `temp_max`, which returns the maximum value of the temperature values.\n",
    "\n",
    "Notice that there are many data files in this directory. It would be a lot of work to read them all in by hand. Instead, write a loop which loops through the file names, reads in the necessary data, calls `dataclass` to store the data in a class instance, and adds it to a list of all of the class instances. At the end of your solution, you should have a list of all of the class instances, one for each data file.\n",
    "\n",
    "Hint: Check out the package `glob` for reading in file names with a wild card. "
   ]
  },
  {
   "cell_type": "code",
   "execution_count": 2,
   "metadata": {
    "collapsed": false
   },
   "outputs": [],
   "source": [
    "import glob\n",
    "dirsearch='/Users/KatieHutschenreuter/Desktop/python4geosciences/data/MCH/*'\n",
    "#np.('/Users/KatieHutschenreuter/Desktop/python4geosciences/data/MCH/m1001a.cnv2')\n",
    "\n",
    "#temerature is column 3 of files or index 2\n",
    "#salinity is column 6 of files or index 5\n",
    "names=[]\n",
    "for i,name in enumerate(glob.glob(dirsearch)):\n",
    "    ind1 = name.find('m')\n",
    "    ind2 = name.find('.')\n",
    "    names.append(name[ind1:ind2])"
   ]
  },
  {
   "cell_type": "code",
   "execution_count": 15,
   "metadata": {
    "collapsed": false
   },
   "outputs": [
    {
     "name": "stdout",
     "output_type": "stream",
     "text": [
      "Average salinity = \n",
      " [24.658829411764707, 24.567600000000002, 30.681368571428571, 32.676372499999999, 32.488624999999999, 35.606388461538458, 26.5899, 26.652857894736844, 33.478300000000004, 27.187711111111113, 31.675515624999999, 34.35348611111111, 34.624456097560973, 34.905857446808511, 30.201615000000004, 31.693000000000001, 28.031300000000002, 31.934872727272733, 34.256788235294117, 33.032632432432436, 34.76672095238095, 35.203648148148147, 34.918039583333332, 34.997901754385964, 35.779000000000011, 35.641005263157901, 30.763772222222219, 31.139225, 35.943934666666664, 34.160930188679245, 35.176372222222227, 28.43919285714286, 34.821384745762707, 33.401621621621615, 34.759034751773051, 35.406458536585369, 35.176737500000002, 22.222399999999997, 36.294326760563386, 28.41893125, 34.919819298245613, 31.088217391304347, 33.790099999999995, 35.366065116279067, 35.561194285714286, 35.207217999999997, 35.828874999999996] \n",
      "\n",
      "Maximum temperatures = \n",
      " [22.120100000000001, 22.1937, 21.6295, 21.966899999999999, 21.3977, 21.063400000000001, 21.8399, 21.856999999999999, 21.5627, 22.233499999999999, 21.414200000000001, 21.9679, 21.839500000000001, 21.860700000000001, 21.244399999999999, 21.680800000000001, 21.431799999999999, 21.769100000000002, 21.5411, 21.816600000000001, 22.026599999999998, 21.586099999999998, 21.388200000000001, 22.077999999999999, 21.666399999999999, 21.450099999999999, 21.068300000000001, 21.854199999999999, 21.252099999999999, 21.651, 21.6768, 21.999500000000001, 22.104399999999998, 22.125599999999999, 21.970600000000001, 21.6571, 21.391500000000001, 21.09, 21.708100000000002, 22.029, 22.210999999999999, 21.794699999999999, 21.680099999999999, 22.000699999999998, 21.625299999999999, 21.267700000000001, 21.670300000000001] \n",
      "\n",
      "Temperature values = \n",
      " [array([ 21.5606,  21.5839,  21.6522,  21.9362,  22.0756,  22.1122,\n",
      "        22.1201,  22.0979,  22.0485,  21.9882,  21.964 ,  21.9633,\n",
      "        21.9793,  21.9706,  21.6123,  21.1627,  21.0007]), array([ 22.0411,  22.0391,  22.0399,  22.0399,  22.0498,  22.0663,\n",
      "        22.0935,  22.1243,  22.1312,  22.1469,  22.1756,  22.1909,  22.1937]), array([ 21.2128,  21.2149,  21.2177,  21.219 ,  21.2165,  21.2331,\n",
      "        21.3468,  21.4867,  21.526 ,  21.5914,  21.6244,  21.6219,\n",
      "        21.6295,  21.6204,  21.6003,  21.5912,  21.4888,  21.3504,\n",
      "        21.2779,  21.343 ,  21.4117,  21.4415,  21.441 ,  21.3959,\n",
      "        21.3208,  21.2352,  21.1793,  21.1591,  21.1479,  21.1501,\n",
      "        21.1435,  21.1413,  21.1385,  21.1377,  21.1369]), array([ 21.9669,  21.9614,  21.9592,  21.9525,  21.956 ,  21.9305,\n",
      "        21.8441,  21.8154,  21.8116,  21.8064,  21.801 ,  21.7913,\n",
      "        21.5583,  21.246 ,  20.9959,  20.7959,  20.7832,  20.7347,\n",
      "        20.6585,  20.5497,  20.4687,  20.433 ,  20.4315,  20.4303,\n",
      "        20.4278,  20.4266,  20.4244,  20.4231,  20.4226,  20.4229,\n",
      "        20.4237,  20.4242,  20.4242,  20.4244,  20.4246,  20.4248,\n",
      "        20.4246,  20.4241,  20.4244,  20.4252]), array([ 21.3631,  21.3699,  21.3671,  21.3639,  21.3626,  21.3795,\n",
      "        21.3904,  21.3977,  21.3945,  21.3942,  21.3962,  21.3946,\n",
      "        21.392 ,  21.3891,  21.3843,  21.3731,  21.3616,  21.3502,\n",
      "        21.3511,  21.3394,  21.2953,  21.2851,  21.2883,  21.3856,\n",
      "        21.376 ,  21.2686,  21.2026,  21.147 ,  21.0474,  21.0016,\n",
      "        20.9624,  20.9867,  21.0059,  21.0469,  21.1124,  21.1456,\n",
      "        21.1763,  21.2103,  21.2087,  21.2478,  21.2642,  21.2784,\n",
      "        21.286 ,  21.2916,  21.2975,  21.3193,  21.314 ,  21.3127,\n",
      "        21.3283,  21.3443,  21.3468,  21.3495,  21.3488,  21.3446,\n",
      "        21.3383,  21.3333]), array([ 21.0634,  21.0558,  21.0555,  21.0321,  21.0171,  21.0158,\n",
      "        21.0156,  21.0106,  21.0097,  21.0046,  20.9994,  21.0146,\n",
      "        21.0135,  21.0122,  21.0117,  20.9953,  21.0372,  21.0302,\n",
      "        21.0234,  21.0048,  20.9987,  21.0027,  20.9898,  20.9832,\n",
      "        20.9843,  20.9826,  20.9697,  20.9729,  20.9795,  20.9847,\n",
      "        20.9486,  20.8964,  20.8547,  20.7898,  20.7007,  20.6467,\n",
      "        20.6386,  20.5344,  20.3021,  20.1532,  20.1306,  20.0353,\n",
      "        19.9559,  19.9005,  19.878 ,  19.8704,  19.8623,  19.8572,\n",
      "        19.8515,  19.8467,  19.8501,  19.8764]), array([ 21.8145,  21.6806,  21.7207,  21.7613,  21.8197,  21.8318,\n",
      "        21.8399,  21.8399,  21.8059,  21.7434,  21.6343,  21.4355,\n",
      "        21.1494,  20.9643,  20.927 ,  20.9546,  21.0518,  21.1493]), array([ 21.5044,  21.5277,  21.5647,  21.7131,  21.8359,  21.8498,\n",
      "        21.856 ,  21.857 ,  21.8536,  21.8473,  21.8149,  21.5747,\n",
      "        21.2599,  20.993 ,  21.1331,  21.1735,  21.1962,  21.2112,  21.2243]), array([ 21.31  ,  21.3196,  21.3713,  21.3808,  21.4133,  21.4521,\n",
      "        21.4957,  21.4987,  21.5003,  21.544 ,  21.5461,  21.5502,\n",
      "        21.5494,  21.5428,  21.5504,  21.5564,  21.5607,  21.5627,\n",
      "        21.5429,  21.4715,  21.451 ,  21.4626,  21.4665,  21.4558,\n",
      "        21.3786,  21.2511,  21.2074,  21.1817,  21.1629,  21.1532,\n",
      "        21.1352,  21.112 ]), array([ 22.1445,  22.1456,  22.1477,  22.1508,  22.1665,  22.1693,\n",
      "        22.1772,  22.1957,  22.2318,  22.2335,  22.2162,  21.7961,\n",
      "        21.2061,  21.1315,  21.1161,  21.1141,  21.1099,  21.1089]), array([ 21.1976,  21.2008,  21.2443,  21.2934,  21.3124,  21.3105,\n",
      "        21.3268,  21.3147,  21.2852,  21.2686,  21.2545,  21.2362,\n",
      "        21.2943,  21.3908,  21.4142,  21.3772,  21.316 ,  21.197 ,\n",
      "        21.0758,  21.0631,  21.2087,  21.2681,  21.2218,  21.1897,\n",
      "        21.1637,  21.1451,  21.1376,  21.128 ,  21.1228,  21.1173,\n",
      "        21.1134,  21.1122]), array([ 21.9679,  21.9597,  21.9228,  21.8775,  21.8107,  21.7256,\n",
      "        21.6358,  21.465 ,  21.1162,  21.0384,  20.9963,  21.0155,\n",
      "        20.9668,  20.969 ,  20.9947,  20.9809,  20.9554,  20.9065,\n",
      "        20.8096,  20.7018,  20.5904,  20.4718,  20.4492,  20.4358,\n",
      "        20.4337,  20.4278,  20.4233,  20.4207,  20.4171,  20.4159,\n",
      "        20.4142,  20.4142,  20.4145,  20.4135,  20.4123,  20.4099]), array([ 21.135 ,  21.1311,  21.1308,  21.1268,  21.1243,  21.0724,\n",
      "        21.0894,  21.0363,  21.0433,  21.0519,  21.0987,  21.098 ,\n",
      "        21.185 ,  21.2745,  21.2847,  21.3344,  21.3841,  21.4423,\n",
      "        21.4616,  21.4777,  21.5053,  21.5553,  21.5994,  21.6647,\n",
      "        21.7123,  21.7379,  21.7733,  21.7789,  21.7356,  21.7713,\n",
      "        21.8079,  21.8203,  21.8231,  21.8358,  21.8384,  21.8395,\n",
      "        21.8374,  21.8328,  21.8309,  21.8256,  21.8127,  21.8081,\n",
      "        21.8075,  21.8076,  21.8068,  21.8073,  21.8079,  21.8083,\n",
      "        21.8088,  21.8087,  21.8091,  21.809 ,  21.8097,  21.8107,\n",
      "        21.8103,  21.8102,  21.812 ,  21.813 ,  21.8135,  21.8142,\n",
      "        21.8144,  21.8154,  21.8168,  21.8163,  21.8151,  21.8145,\n",
      "        21.8142,  21.8136,  21.8127,  21.8128,  21.808 ,  21.8063,\n",
      "        21.8038,  21.7994,  21.7846,  21.7272,  21.5113,  21.1199,\n",
      "        21.0422,  21.023 ,  21.0026,  20.9614]), array([ 21.8185,  21.839 ,  21.8607,  21.8306,  21.7431,  21.7823,\n",
      "        21.7381,  21.7059,  21.7023,  21.7006,  21.6701,  21.6296,\n",
      "        21.6125,  21.5732,  21.4928,  21.4228,  21.3211,  21.276 ,\n",
      "        21.2559,  21.2291,  21.0449,  20.898 ,  20.86  ,  20.8487,\n",
      "        20.8098,  20.7482,  20.697 ,  20.6277,  20.542 ,  20.4805,\n",
      "        20.5263,  20.557 ,  20.483 ,  20.3947,  20.3551,  20.3393,\n",
      "        20.3344,  20.325 ,  20.3187,  20.3177,  20.3163,  20.3126,\n",
      "        20.3033,  20.3094,  20.3056,  20.2982,  20.2956]), array([ 21.2122,  21.2215,  21.2444,  21.2207,  21.0824,  21.09  ,\n",
      "        21.0411,  20.9672,  20.9155,  20.8568,  20.8657,  20.9096,\n",
      "        20.9484,  20.9915,  21.0419,  21.0634,  21.0701,  21.0783,\n",
      "        21.1156,  21.1339]), array([ 21.5801,  21.5943,  21.5914,  21.5902,  21.5842,  21.5839,\n",
      "        21.5768,  21.582 ,  21.5995,  21.6071,  21.6063,  21.6013,\n",
      "        21.6209,  21.6607,  21.6697,  21.6697,  21.6808,  21.6802,\n",
      "        21.6794,  21.6543]), array([ 21.4313,  21.43  ,  21.4318,  21.4298,  21.3853,  21.3886,\n",
      "        21.3611,  21.3327,  21.3071,  21.263 ,  21.2144,  21.1723,\n",
      "        21.1042,  21.0663,  21.0651,  21.0636]), array([ 20.97  ,  20.9549,  20.9988,  21.1699,  21.2351,  20.9371,\n",
      "        20.6621,  20.5557,  20.5945,  20.6501,  20.7247,  20.9695,\n",
      "        21.314 ,  21.5394,  21.6171,  21.7017,  21.7691,  21.7102,\n",
      "        21.5199,  21.4487,  21.4288,  21.4273,  21.4392,  21.4684,\n",
      "        21.4774,  21.4749,  21.4753,  21.4856,  21.4889,  21.4909,\n",
      "        21.4924,  21.4928,  21.4929]), array([ 21.5001,  21.4986,  21.5083,  21.4967,  21.4741,  21.4716,\n",
      "        21.4861,  21.4872,  21.4875,  21.4886,  21.5102,  21.5411,\n",
      "        21.5411,  21.537 ,  21.5325,  21.5264,  21.495 ,  21.4821,\n",
      "        21.4874,  21.4687,  21.4606,  21.4499,  21.4361,  21.3547,\n",
      "        21.317 ,  21.2991,  21.2657,  21.232 ,  21.2183,  21.1977,\n",
      "        21.1856,  21.1715,  21.1591,  21.1575]), array([ 21.8166,  21.7342,  21.756 ,  21.712 ,  21.6554,  21.6627,\n",
      "        21.6602,  21.5224,  21.4711,  21.4644,  21.4179,  21.3173,\n",
      "        21.2793,  21.2928,  21.2709,  21.1855,  21.1236,  21.1119,\n",
      "        21.1153,  21.1205,  21.1325,  21.1384,  21.1395,  21.1384,\n",
      "        21.1359,  21.1269,  21.072 ,  21.0167,  20.9737,  20.9132,\n",
      "        20.8323,  20.7926,  20.7767,  20.7674,  20.7649,  20.7635,  20.7655]), array([ 21.1192,  21.1475,  21.1413,  21.1409,  21.1382,  21.1374,\n",
      "        21.1345,  21.1193,  21.0613,  20.9277,  20.9826,  20.9577,\n",
      "        21.0125,  21.0408,  21.0673,  21.1302,  21.2866,  21.4095,\n",
      "        21.5854,  21.4886,  21.623 ,  21.6073,  21.6604,  21.7153,\n",
      "        21.7867,  21.8401,  21.8932,  21.9235,  21.9704,  22.0103,\n",
      "        22.0266,  22.0182,  21.909 ,  21.7441,  21.6654,  21.613 ,\n",
      "        21.5725,  21.5574,  21.5535,  21.5521,  21.547 ,  21.5482,\n",
      "        21.5508,  21.5506,  21.555 ,  21.5577,  21.5595,  21.5579,\n",
      "        21.5529,  21.5516,  21.5498,  21.5522,  21.5649,  21.5711,\n",
      "        21.5728,  21.5739,  21.5754,  21.573 ,  21.5499,  21.531 ,\n",
      "        21.5254,  21.4965,  21.4796,  21.4713,  21.4591,  21.4345,\n",
      "        21.4176,  21.4073,  21.4016,  21.4009,  21.3988,  21.3955,\n",
      "        21.3889,  21.38  ,  21.3731,  21.3711,  21.3635,  21.3356,\n",
      "        21.3074,  21.2824,  21.2528,  21.0842,  20.9512,  20.9442,\n",
      "        20.9406,  20.9363,  20.9256,  20.927 ,  20.9203,  20.9037,\n",
      "        20.8932,  20.8746,  20.8385,  20.7468,  20.6579,  20.6004,\n",
      "        20.5516,  20.5117,  20.5024,  20.4923,  20.481 ,  20.4715,\n",
      "        20.4575,  20.455 ,  20.4519]), array([ 21.5845,  21.5855,  21.5861,  21.5859,  21.5625,  21.537 ,\n",
      "        21.5362,  21.5054,  21.4058,  21.3367,  21.1446,  21.0783,\n",
      "        21.0651,  21.0591,  21.0591,  21.0574,  21.0546,  21.0552,\n",
      "        21.0559,  21.0558,  21.0556,  21.0557,  21.0547,  21.0547,\n",
      "        21.0543,  21.0537,  21.0538]), array([ 21.3882,  21.3593,  21.319 ,  21.2791,  21.2653,  21.2559,\n",
      "        21.2409,  21.2325,  21.2147,  21.2014,  21.1862,  21.171 ,\n",
      "        21.1627,  21.1524,  21.1437,  21.1398,  21.1441,  21.1461,\n",
      "        21.1398,  21.121 ,  21.1172,  21.1286,  21.1272,  21.1124,\n",
      "        21.0678,  20.9758,  20.9171,  20.8856,  20.8432,  20.7703,\n",
      "        20.7148,  20.6673,  20.6383,  20.6147,  20.5813,  20.5816,\n",
      "        20.578 ,  20.5687,  20.5636,  20.5615,  20.5559,  20.5352,\n",
      "        20.5288,  20.5319,  20.5327,  20.5347,  20.5389,  20.5385]), array([ 21.9419,  21.3693,  21.2584,  21.105 ,  21.1215,  21.1745,\n",
      "        21.1963,  21.2405,  21.2795,  21.252 ,  21.0912,  20.9803,\n",
      "        21.2269,  21.4103,  21.4471,  21.4969,  21.5209,  21.5381,\n",
      "        21.5686,  21.5934,  21.599 ,  21.6045,  21.6153,  21.6257,\n",
      "        21.6323,  21.635 ,  21.6357,  21.6387,  21.6412,  21.6593,\n",
      "        21.7076,  21.7407,  21.7438,  21.7616,  21.7692,  21.7928,\n",
      "        21.8188,  21.8332,  21.8537,  21.884 ,  21.9072,  21.9456,\n",
      "        21.9677,  21.986 ,  21.9795,  21.9718,  21.965 ,  21.9636,\n",
      "        21.9556,  21.9637,  21.9989,  22.0531,  22.078 ,  22.024 ,\n",
      "        21.9729,  21.9906,  21.9645,  21.9428,  21.9391,  21.9216,\n",
      "        21.8719,  21.8019,  21.7381,  21.7286,  21.7062,  21.6803,\n",
      "        21.6441,  21.6226,  21.6136,  21.6128,  21.5879,  21.5534,\n",
      "        21.5329,  21.5082,  21.4881,  21.4786,  21.4454,  21.4419,\n",
      "        21.4392,  21.4229,  21.4052,  21.3868,  21.3812,  21.3742,\n",
      "        21.3611,  21.3473,  21.343 ,  21.3288,  21.3193,  21.3103,\n",
      "        21.3017,  21.2917,  21.2799,  21.2606,  21.2495,  21.2307,\n",
      "        21.2134,  21.178 ,  21.1377,  21.0735,  21.0443,  21.0111,\n",
      "        20.9545,  20.8957,  20.8745,  20.8112,  20.7081,  20.5835,\n",
      "        20.4864,  20.4157,  20.2716,  20.2283,  20.2277,  20.2256]), array([ 21.6484,  21.6451,  21.6461,  21.6468,  21.6472,  21.6481,\n",
      "        21.6485,  21.6489,  21.6492,  21.6497,  21.6493,  21.6485,\n",
      "        21.6488,  21.649 ,  21.65  ,  21.6533,  21.6557,  21.6552,\n",
      "        21.6547,  21.6563,  21.6567,  21.6567,  21.6578,  21.6577,\n",
      "        21.6628,  21.6647,  21.6664,  21.6638,  21.6632,  21.6597,\n",
      "        21.6585,  21.6568,  21.6248,  21.5597,  21.5501,  21.4252,  21.2748]), array([ 21.4501,  21.3959,  21.3799,  21.3507,  21.3284,  21.3021,\n",
      "        21.2867,  21.2654,  21.2405,  21.1988,  21.1591,  21.1243,\n",
      "        21.1064,  21.0814,  20.9556,  20.9565,  20.9532,  20.8588,\n",
      "        20.8078,  20.7985,  20.8098,  20.8023,  20.8032,  20.7819,\n",
      "        20.765 ,  20.7264,  20.6724,  20.6056,  20.5311,  20.5338,\n",
      "        20.472 ,  20.4702,  20.4762,  20.4653,  20.3267,  20.1181,\n",
      "        20.0674,  20.051 ,  19.9718,  19.958 ,  19.9474,  19.9384,\n",
      "        19.9339,  19.912 ,  19.8601,  19.8407,  19.8325,  19.8278,\n",
      "        19.8276,  19.8275,  19.8261,  19.8266,  19.8267,  19.8261,\n",
      "        19.8266,  19.8265,  19.8265]), array([ 21.0683,  20.9853,  20.9848,  20.7237,  20.6591,  20.6676,\n",
      "        20.6711,  20.7416,  20.8176,  20.8367,  20.8363,  20.8465,\n",
      "        20.8915,  20.9429,  20.9563,  20.9583,  20.9517,  20.9765]), array([ 21.5265,  21.6442,  21.6162,  21.5977,  21.5773,  21.5732,\n",
      "        21.573 ,  21.5661,  21.5579,  21.6165,  21.6782,  21.6938,\n",
      "        21.7222,  21.7706,  21.8267,  21.8542,  21.8434,  21.7885,\n",
      "        21.7615,  21.7281]), array([ 21.242 ,  21.2493,  21.2521,  21.2487,  21.2389,  21.2295,\n",
      "        21.2072,  21.2197,  21.1954,  21.181 ,  21.1651,  21.1558,\n",
      "        21.1485,  21.1428,  21.1187,  21.1096,  21.0758,  21.0291,\n",
      "        20.9861,  20.9581,  20.9387,  20.9039,  20.8778,  20.8546,\n",
      "        20.8295,  20.8256,  20.817 ,  20.8094,  20.7949,  20.7866,\n",
      "        20.7864,  20.7745,  20.7666,  20.7552,  20.7432,  20.7276,\n",
      "        20.7195,  20.7072,  20.6776,  20.6436,  20.5632,  20.5145,\n",
      "        20.4957,  20.4291,  20.3153,  20.1967,  20.1454,  19.9337,\n",
      "        19.887 ,  19.8278,  19.753 ,  19.7339,  19.7397,  19.7488,\n",
      "        19.7497,  19.7454,  19.7292,  19.7117,  19.7028,  19.7159,\n",
      "        19.7443,  19.7652,  19.7771,  19.795 ,  19.7975,  19.7942,\n",
      "        19.7902,  19.788 ,  19.7852,  19.785 ,  19.7846,  19.7845,\n",
      "        19.7849,  19.7854,  19.785 ]), array([ 21.1286,  21.1053,  21.1065,  21.0959,  21.105 ,  21.0443,\n",
      "        20.9091,  20.7987,  20.886 ,  20.9116,  20.9285,  20.9507,\n",
      "        21.0234,  21.1054,  21.1809,  21.1769,  21.2089,  21.257 ,\n",
      "        21.3265,  21.5279,  21.651 ,  21.5357,  21.4633,  21.448 ,\n",
      "        21.4605,  21.4652,  21.4626,  21.4531,  21.4549,  21.4831,\n",
      "        21.4697,  21.4512,  21.4463,  21.4408,  21.4047,  21.3333,\n",
      "        21.2941,  21.2741,  21.2566,  21.2292,  21.172 ,  21.1324,\n",
      "        21.0823,  21.0375,  20.9635,  20.9023,  20.8737,  20.8712,\n",
      "        20.8741,  20.8758,  20.8742,  20.8736,  20.8777]), array([ 21.5067,  21.5101,  21.5096,  21.5109,  21.5107,  21.5065,\n",
      "        21.5038,  21.5055,  21.4905,  21.4635,  21.4681,  21.4643,\n",
      "        21.4509,  21.4744,  21.5253,  21.5055,  21.5495,  21.5845,\n",
      "        21.5732,  21.5888,  21.6403,  21.6563,  21.6569,  21.6738,\n",
      "        21.6768,  21.6738,  21.6462,  21.6264,  21.569 ,  21.5472,\n",
      "        21.5093,  21.4677,  21.4202,  21.3868,  21.3554,  21.3247]), array([ 21.925 ,  21.8816,  21.9256,  21.9995,  21.7792,  21.6787,\n",
      "        21.6224,  21.5341,  21.4051,  21.1988,  21.0753,  21.0582,\n",
      "        21.0421,  20.9684]), array([ 20.93  ,  20.9276,  20.9319,  20.9362,  20.9485,  20.9539,\n",
      "        20.8965,  20.8065,  20.691 ,  20.5995,  20.614 ,  20.6172,\n",
      "        20.6956,  20.7301,  20.7725,  20.8172,  20.7603,  20.7741,\n",
      "        20.9556,  21.0828,  21.1367,  21.2452,  21.4709,  21.5445,\n",
      "        21.6228,  21.6874,  21.7419,  21.8191,  21.9166,  21.9969,\n",
      "        22.0405,  22.0646,  22.0986,  22.1044,  22.0929,  22.0746,\n",
      "        22.061 ,  22.0334,  22.0074,  21.9349,  21.7922,  21.7493,\n",
      "        21.696 ,  21.6417,  21.6014,  21.6236,  21.659 ,  21.6361,\n",
      "        21.5996,  21.5782,  21.5732,  21.5755,  21.5817,  21.5988,\n",
      "        21.606 ,  21.6125,  21.6112,  21.6062,  21.602 ,  21.5998,\n",
      "        21.5977,  21.59  ,  21.5664,  21.5402,  21.4901,  21.4198,\n",
      "        21.3637,  21.2999,  21.238 ,  21.2048,  21.1798,  21.1533,\n",
      "        21.0796,  20.9965,  20.864 ,  20.8078,  20.7658,  20.6875,\n",
      "        20.6393,  20.576 ,  20.521 ,  20.4719,  20.4338,  20.4201,\n",
      "        20.4129,  20.4056,  20.3978,  20.3936,  20.3916,  20.3872,\n",
      "        20.3799,  20.3735,  20.3665,  20.3644,  20.3606,  20.3541,\n",
      "        20.3505,  20.349 ,  20.3477,  20.3428,  20.3369,  20.3322,\n",
      "        20.3296,  20.3212,  20.3024,  20.2885,  20.2738,  20.2523,\n",
      "        20.2426,  20.2322,  20.226 ,  20.2224,  20.2187,  20.2126,\n",
      "        20.2121,  20.2112,  20.2114,  20.2115]), array([ 22.0036,  22.1256,  22.0657,  22.0432,  22.0495,  21.9818,\n",
      "        21.7611,  21.666 ,  21.4051,  21.3525,  21.3578,  21.3521,\n",
      "        21.3291,  21.3182,  21.2934,  21.254 ,  21.2396,  21.2297,\n",
      "        21.2266,  21.2222,  21.1998,  21.1575,  21.1083,  21.0845,\n",
      "        21.0567,  20.9886,  20.8654,  20.712 ,  20.6096,  20.5328,\n",
      "        20.456 ,  20.4466,  20.4381,  20.4327,  20.4266,  20.4273,  20.4249]), array([ 21.4898,  21.2625,  21.0959,  21.1039,  21.1204,  21.0808,\n",
      "        21.004 ,  20.9669,  20.8982,  20.9034,  20.886 ,  20.8628,\n",
      "        21.0211,  20.9244,  20.9304,  20.9912,  21.0209,  21.0309,\n",
      "        21.0477,  21.0572,  21.17  ,  21.2616,  21.3661,  21.5045,\n",
      "        21.5327,  21.5178,  21.513 ,  21.6149,  21.6603,  21.6674,\n",
      "        21.6624,  21.6674,  21.693 ,  21.6965,  21.6651,  21.6287,\n",
      "        21.7027,  21.7581,  21.809 ,  21.8446,  21.8869,  21.9086,\n",
      "        21.9012,  21.7936,  21.76  ,  21.8513,  21.8948,  21.9706,\n",
      "        21.9702,  21.92  ,  21.8584,  21.8385,  21.8344,  21.8599,\n",
      "        21.8745,  21.8543,  21.8345,  21.8109,  21.8019,  21.7998,\n",
      "        21.7883,  21.7961,  21.7926,  21.7778,  21.7688,  21.7469,\n",
      "        21.7363,  21.7326,  21.7278,  21.7144,  21.7022,  21.6951,\n",
      "        21.6898,  21.6788,  21.6595,  21.6473,  21.6324,  21.6011,\n",
      "        21.5719,  21.5552,  21.517 ,  21.4503,  21.4092,  21.3712,\n",
      "        21.3547,  21.3324,  21.3078,  21.2863,  21.2671,  21.2542,\n",
      "        21.2489,  21.2339,  21.2205,  21.1954,  21.1509,  21.0792,\n",
      "        21.0094,  20.987 ,  20.9708,  20.938 ,  20.9104,  20.8928,\n",
      "        20.8341,  20.789 ,  20.739 ,  20.7135,  20.672 ,  20.6555,\n",
      "        20.6231,  20.5901,  20.5626,  20.5315,  20.4658,  20.4382,\n",
      "        20.4276,  20.4131,  20.4065,  20.3842,  20.3347,  20.2841,\n",
      "        20.2274,  20.1592,  20.1313,  20.1231,  20.1045,  20.0856,\n",
      "        20.078 ,  20.0798,  20.0836,  20.0883,  20.0866,  20.0857,\n",
      "        20.0849,  20.0852,  20.0865,  20.087 ,  20.0865,  20.0876,\n",
      "        20.0874,  20.0879,  20.0855]), array([ 21.654 ,  21.6548,  21.6571,  21.6568,  21.6571,  21.6434,\n",
      "        21.6148,  21.6144,  21.6299,  21.6267,  21.6221,  21.6099,\n",
      "        21.5965,  21.563 ,  21.5185,  21.5648,  21.4489,  21.4116,\n",
      "        21.4025,  21.3454,  21.3802,  21.3921,  21.3881,  21.3415,\n",
      "        21.2846,  21.2936,  21.2941,  21.2919,  21.2907,  21.2896,\n",
      "        21.2891,  21.2885,  21.2865,  21.287 ,  21.2876,  21.2866,\n",
      "        21.2859,  21.286 ,  21.286 ,  21.2861,  21.2859]), array([ 21.3846,  21.3787,  21.3804,  21.3779,  21.3799,  21.38  ,\n",
      "        21.3798,  21.3853,  21.3893,  21.3903,  21.3915,  21.3915,\n",
      "        21.3907,  21.391 ,  21.391 ,  21.3853,  21.3721,  21.3537,\n",
      "        21.3272,  21.2438,  21.1691,  21.1474,  21.0958,  21.0467,\n",
      "        21.0063,  20.9972,  20.9882,  20.9666,  20.9584,  20.9564,\n",
      "        20.9317,  20.9058,  20.9051,  20.8584,  20.8077,  20.758 ,\n",
      "        20.7317,  20.7093,  20.6948,  20.657 ,  20.646 ,  20.6438,\n",
      "        20.641 ,  20.6414,  20.6413,  20.6409,  20.6406,  20.6403]), array([ 19.5152,  19.6845,  19.6617,  19.5185,  20.1524,  20.2408,\n",
      "        20.462 ,  20.5264,  20.5704,  20.6471,  20.6677,  20.8486,  21.09  ]), array([ 21.7081,  21.7037,  21.7046,  21.7057,  21.7053,  21.7064,\n",
      "        21.7066,  21.7062,  21.7062,  21.7063,  21.7047,  21.704 ,\n",
      "        21.7047,  21.704 ,  21.7043,  21.7055,  21.7043,  21.7046,\n",
      "        21.7034,  21.7021,  21.7014,  21.7006,  21.7007,  21.6993,\n",
      "        21.6986,  21.6991,  21.6995,  21.698 ,  21.6966,  21.6966,\n",
      "        21.6954,  21.6937,  21.6858,  21.6868,  21.6873,  21.6855,\n",
      "        21.6873,  21.6835,  21.6832,  21.6823,  21.6837,  21.6848,\n",
      "        21.6842,  21.6831,  21.6813,  21.6778,  21.6759,  21.6667,\n",
      "        21.6573,  21.6499,  21.6469,  21.6389,  21.6308,  21.6335,\n",
      "        21.6256,  21.603 ,  21.5699,  21.5737,  21.5594,  21.513 ,\n",
      "        21.522 ,  21.5229,  21.5219,  21.5056,  21.4958,  21.4773,\n",
      "        21.4539,  21.4312,  21.4264,  21.4152,  21.397 ]), array([ 21.9076,  21.9177,  21.9858,  22.029 ,  22.0151,  21.9359,\n",
      "        21.7674,  21.7246,  21.6257,  21.3632,  21.2273,  21.1661,\n",
      "        21.0899,  21.063 ,  21.0493,  21.0483]), array([ 20.8352,  20.8547,  20.7863,  20.7914,  20.7971,  20.7439,\n",
      "        20.7513,  20.7333,  20.717 ,  20.7128,  20.6613,  20.6704,\n",
      "        20.7554,  20.7952,  20.8005,  20.8725,  21.0322,  21.2289,\n",
      "        21.3197,  21.5024,  21.5425,  21.5721,  21.6111,  21.6454,\n",
      "        21.6967,  21.7101,  21.7218,  21.7276,  21.7334,  21.7536,\n",
      "        21.7698,  21.7502,  21.7813,  21.8433,  21.8997,  21.9298,\n",
      "        21.9909,  22.0131,  22.0331,  22.0419,  22.0557,  22.0659,\n",
      "        22.0956,  22.1564,  22.2102,  22.211 ,  22.1875,  22.1721,\n",
      "        22.128 ,  22.1335,  22.115 ,  22.0766,  22.0425,  22.0446,\n",
      "        22.0218,  21.999 ,  21.9955,  22.0222,  22.0332,  22.0097,\n",
      "        21.9898,  21.9907,  21.9846,  21.9707,  21.9537,  21.9422,\n",
      "        21.9331,  21.9219,  21.9168,  21.9154,  21.915 ,  21.9143,\n",
      "        21.8806,  21.7355,  21.6462,  21.5695,  21.4988,  21.341 ,\n",
      "        21.3009,  21.2982,  21.2981,  21.2954,  21.2259,  21.1362,\n",
      "        21.0771,  21.0258,  20.9546,  20.9371,  20.9267,  20.8954,\n",
      "        20.7992,  20.7075,  20.5469,  20.4358,  20.3973,  20.3946,\n",
      "        20.3626,  20.3212,  20.2992,  20.2621,  20.2556,  20.2495,\n",
      "        20.225 ,  20.1833,  20.1545,  20.1145,  20.0856,  20.0475,\n",
      "        20.0209,  19.993 ,  19.9373,  19.8862,  19.8786,  19.8781]), array([ 21.4645,  21.4692,  21.4596,  21.4593,  21.4578,  21.4576,\n",
      "        21.454 ,  21.4544,  21.4684,  21.498 ,  21.5341,  21.5752,\n",
      "        21.6344,  21.6827,  21.7031,  21.7245,  21.7641,  21.7947,\n",
      "        21.7797,  21.6555,  21.6486,  21.6167,  21.5875]), array([ 21.6771,  21.6801,  21.6322,  21.5277,  21.4446,  21.4254,\n",
      "        21.369 ,  21.354 ,  21.3353,  21.3359,  21.3324,  21.3247,\n",
      "        21.3242,  21.3132,  21.3041,  21.2823,  21.2477,  21.1915,\n",
      "        21.1728,  21.1536,  21.1354,  20.9805,  20.8541,  20.8208,\n",
      "        20.7925,  20.7771,  20.7682,  20.7553,  20.7386,  20.725 ,\n",
      "        20.7237,  20.7249,  20.723 ,  20.7211,  20.7238,  20.726 ,\n",
      "        20.7279,  20.7291]), array([ 20.8268,  20.8121,  20.8167,  20.8163,  20.8039,  20.7917,\n",
      "        20.7959,  20.8041,  20.8239,  20.8896,  20.9573,  20.988 ,\n",
      "        21.0331,  21.0623,  21.1646,  21.2642,  21.3588,  21.3448,\n",
      "        21.3711,  21.4358,  21.4614,  21.4557,  21.399 ,  21.3814,\n",
      "        21.5505,  21.7034,  21.811 ,  21.8457,  21.8698,  21.885 ,\n",
      "        21.8933,  21.8929,  21.8863,  21.8778,  21.8742,  21.8744,\n",
      "        21.876 ,  21.8784,  21.8819,  21.8896,  21.8987,  21.9106,\n",
      "        21.927 ,  21.9566,  22.0007,  21.9967,  21.9906,  21.9924,\n",
      "        21.9846,  21.9721,  21.9674,  21.975 ,  21.9682,  21.9558,\n",
      "        21.9473,  21.9371,  21.9284,  21.9117,  21.9271,  21.9419,\n",
      "        21.9694,  21.9923,  21.9878,  21.9806,  21.957 ,  21.9318,\n",
      "        21.8839,  21.8784,  21.8911,  21.8817,  21.8563,  21.8516,\n",
      "        21.8425,  21.8164,  21.7864,  21.7773,  21.7685,  21.7557,\n",
      "        21.7368,  21.7285,  21.723 ,  21.7167,  21.7087,  21.7028,\n",
      "        21.6996,  21.696 ,  21.6941,  21.6931,  21.6924,  21.6905,\n",
      "        21.6889,  21.6827,  21.6588,  21.6497,  21.63  ,  21.6144,\n",
      "        21.5837,  21.5418,  21.5263,  21.5174,  21.5155,  21.5097,\n",
      "        21.5154,  21.5168,  21.51  ,  21.5049,  21.4976,  21.4846,\n",
      "        21.4736,  21.4587,  21.4516,  21.4422,  21.4367,  21.4181,\n",
      "        21.3767,  21.3271,  21.2163,  21.1442,  21.0583,  21.0227,\n",
      "        20.9848,  21.0031,  21.0235,  21.003 ,  20.9621,  20.8764,\n",
      "        20.8335,  20.7786,  20.7723,  20.7811,  20.6332,  20.4238,\n",
      "        20.3581,  20.349 ,  20.3421,  20.3463,  20.1671,  19.9523,\n",
      "        19.918 ,  19.9264,  19.9418,  19.8887,  19.7671,  19.7067,\n",
      "        19.6617,  19.6714,  19.6265,  19.5463,  19.5165,  19.4097,\n",
      "        19.1754,  18.8665,  18.7871,  18.6672,  18.6321,  18.6096,\n",
      "        18.6266,  18.6334,  18.6378,  18.5921,  18.5642,  18.5472,\n",
      "        18.5411,  18.5427,  18.543 ,  18.5427,  18.5421,  18.5422,\n",
      "        18.5424,  18.5422,  18.5401,  18.5398]), array([ 21.5787,  21.5778,  21.5825,  21.5871,  21.5809,  21.5844,\n",
      "        21.5807,  21.5787,  21.5761,  21.5724,  21.5723,  21.5752,\n",
      "        21.5747,  21.5941,  21.5944,  21.5958,  21.6005,  21.6035,\n",
      "        21.6049,  21.607 ,  21.6101,  21.6135,  21.6176,  21.6236,\n",
      "        21.625 ,  21.6253,  21.6224,  21.6091,  21.5961,  21.4832,\n",
      "        21.3413,  21.2541,  21.2737,  21.2812,  21.2867]), array([ 21.2281,  21.2288,  21.2284,  21.2257,  21.2244,  21.2261,\n",
      "        21.2267,  21.2264,  21.2307,  21.2331,  21.2475,  21.2677,\n",
      "        21.2408,  21.2065,  21.1994,  21.2137,  21.1394,  21.078 ,\n",
      "        21.0212,  20.9981,  20.9921,  20.9649,  20.9227,  20.904 ,\n",
      "        20.8959,  20.8539,  20.8034,  20.7651,  20.7388,  20.7307,\n",
      "        20.7246,  20.7178,  20.7142,  20.7142,  20.7133,  20.7138,\n",
      "        20.7152,  20.6715,  20.5572,  20.5545,  20.5769,  20.5697,\n",
      "        20.5701,  20.5742,  20.5759,  20.578 ,  20.578 ,  20.5787,\n",
      "        20.58  ,  20.5811]), array([ 21.5275,  21.5222,  21.5207,  21.5193,  21.5212,  21.5212,\n",
      "        21.5293,  21.5303,  21.5291,  21.5273,  21.535 ,  21.5324,\n",
      "        21.5304,  21.5497,  21.6461,  21.6703,  21.646 ,  21.6335,\n",
      "        21.6219,  21.6034,  21.5907,  21.5679,  21.5487,  21.529 ,\n",
      "        21.4961,  21.4982,  21.5112,  21.5219,  21.5273,  21.5353,\n",
      "        21.538 ,  21.5428,  21.5461,  21.5471,  21.548 ,  21.5485,\n",
      "        21.5484,  21.5479,  21.5467,  21.5466])] \n",
      "\n",
      "Salinity values = \n",
      " [array([ 20.5792,  20.7457,  21.2954,  23.2753,  23.7614,  23.8753,\n",
      "        24.0722,  24.1968,  24.3289,  24.4729,  24.6041,  24.7225,\n",
      "        24.9008,  25.1469,  27.4217,  30.3597,  31.4413]), array([ 24.4009,  24.397 ,  24.3957,  24.4029,  24.4197,  24.4626,\n",
      "        24.548 ,  24.6361,  24.6538,  24.692 ,  24.7626,  24.8009,  24.8066]), array([ 23.7654,  23.765 ,  23.7652,  23.7653,  23.7632,  23.8045,\n",
      "        24.5297,  25.5772,  25.8547,  26.3508,  26.6671,  26.9786,\n",
      "        27.1707,  27.2937,  27.4737,  27.7143,  28.9596,  30.9501,\n",
      "        33.1455,  34.1195,  34.656 ,  35.1729,  35.7207,  35.9413,\n",
      "        36.0207,  36.0671,  36.0935,  36.1033,  36.1087,  36.0834,\n",
      "        36.0837,  36.08  ,  36.095 ,  36.0965,  36.1113]), array([ 27.2264,  27.2572,  27.2667,  27.2861,  27.2744,  27.326 ,\n",
      "        27.4836,  27.5437,  27.5593,  27.5717,  27.5911,  27.6727,\n",
      "        29.4505,  32.0302,  33.4588,  34.1928,  34.3883,  34.5998,\n",
      "        34.9627,  35.3475,  35.3974,  35.4247,  35.4318,  35.438 ,\n",
      "        35.4497,  35.4567,  35.4643,  35.4695,  35.4794,  35.4905,\n",
      "        35.5031,  35.5028,  35.5047,  35.5062,  35.5063,  35.507 ,\n",
      "        35.5081,  35.5077,  35.5087,  35.5088]), array([ 26.3505,  26.3523,  26.351 ,  26.3467,  26.345 ,  26.3683,\n",
      "        26.3906,  26.4176,  26.4187,  26.4426,  26.4651,  26.4959,\n",
      "        26.5515,  26.5945,  26.6131,  26.6771,  26.8143,  27.1076,\n",
      "        27.1611,  27.7751,  30.6157,  32.7678,  33.4889,  34.3459,\n",
      "        35.1569,  35.3745,  35.4904,  35.5258,  35.6375,  35.7976,\n",
      "        35.9563,  36.0551,  36.1246,  36.1945,  36.2299,  36.2472,\n",
      "        36.2643,  36.2797,  36.264 ,  36.2976,  36.3042,  36.3099,\n",
      "        36.3122,  36.3141,  36.3165,  36.3253,  36.3222,  36.322 ,\n",
      "        36.3304,  36.3355,  36.3371,  36.3382,  36.3382,  36.3368,\n",
      "        36.3351,  36.3325]), array([ 35.3296,  35.3285,  35.3219,  35.3686,  35.4049,  35.41  ,\n",
      "        35.4104,  35.4164,  35.4178,  35.4233,  35.4285,  35.4155,\n",
      "        35.4183,  35.4192,  35.4215,  35.4374,  35.4014,  35.407 ,\n",
      "        35.4132,  35.4248,  35.4275,  35.4253,  35.4404,  35.4472,\n",
      "        35.4462,  35.4503,  35.4688,  35.4662,  35.46  ,  35.456 ,\n",
      "        35.5462,  35.6023,  35.6438,  35.7351,  35.8341,  35.8495,\n",
      "        35.8735,  35.8865,  35.8995,  35.9184,  35.9217,  35.9332,\n",
      "        35.9373,  35.94  ,  35.9393,  35.9384,  35.9393,  35.9386,\n",
      "        35.9385,  35.9379,  35.9384,  35.9346]), array([ 23.4271,  22.0338,  22.4223,  22.8195,  23.3727,  23.4951,\n",
      "        23.5843,  23.7158,  24.0513,  24.5752,  25.4626,  27.0368,\n",
      "        29.8782,  31.4626,  31.9332,  32.4998,  33.176 ,  33.6719]), array([ 20.1875,  20.4712,  20.9482,  22.5379,  23.4663,  23.5351,\n",
      "        23.5794,  23.6216,  23.6832,  23.7816,  24.0563,  26.2249,\n",
      "        29.1681,  32.2527,  33.2395,  33.6195,  33.8249,  33.9996,  34.2068]), array([ 30.5751,  30.7612,  31.6186,  31.7748,  32.2866,  32.446 ,\n",
      "        32.5681,  32.598 ,  32.6381,  32.7674,  32.8333,  32.8742,\n",
      "        32.9258,  32.9529,  33.071 ,  33.1108,  33.1385,  33.1991,\n",
      "        33.3027,  34.0189,  34.3038,  34.3222,  34.3487,  34.4527,\n",
      "        34.8097,  35.1963,  35.2756,  35.3161,  35.3629,  35.3893,\n",
      "        35.4605,  35.6067]), array([ 23.6541,  23.6659,  23.6885,  23.7181,  23.844 ,  23.871 ,\n",
      "        23.9339,  24.0607,  24.2749,  24.3685,  24.4309,  25.3634,\n",
      "        32.0861,  33.4231,  33.7004,  33.7381,  33.7751,  33.7821]), array([ 18.83  ,  19.4466,  22.5457,  24.033 ,  24.5494,  24.8611,\n",
      "        25.3301,  25.7464,  27.0043,  28.2254,  29.637 ,  31.4015,\n",
      "        32.7363,  33.8307,  34.5768,  34.8735,  35.0639,  35.5122,\n",
      "        35.6933,  35.81  ,  35.9777,  36.093 ,  36.1314,  36.1622,\n",
      "        36.1781,  36.1864,  36.1899,  36.1946,  36.1969,  36.1987,\n",
      "        36.2001,  36.2003]), array([ 31.5684,  31.5826,  31.6585,  31.8082,  32.0088,  32.2068,\n",
      "        32.3989,  32.935 ,  33.5738,  33.6346,  33.6722,  33.7818,\n",
      "        33.9107,  34.0195,  34.1416,  34.298 ,  34.4344,  34.6235,\n",
      "        34.8653,  35.1621,  35.4   ,  35.5824,  35.6368,  35.665 ,\n",
      "        35.6693,  35.6749,  35.6778,  35.6793,  35.6812,  35.6815,\n",
      "        35.682 ,  35.6821,  35.682 ,  35.6821,  35.6821,  35.6823]), array([ 23.0332,  23.0429,  23.0453,  23.0514,  23.0685,  24.1042,\n",
      "        24.7493,  29.909 ,  29.4408,  30.5029,  32.0678,  32.0675,\n",
      "        32.8987,  33.4254,  33.4702,  33.8144,  34.0624,  34.3554,\n",
      "        34.4766,  34.5614,  34.6743,  34.8585,  34.9991,  35.1895,\n",
      "        35.3227,  35.4204,  35.5682,  35.6314,  35.8638,  36.2083,\n",
      "        36.2938,  36.3434,  36.3851,  36.4351,  36.4397,  36.4544,\n",
      "        36.4617,  36.4675,  36.4708,  36.4704,  36.4708,  36.4728,\n",
      "        36.4736,  36.4741,  36.4749,  36.4761,  36.4762,  36.478 ,\n",
      "        36.4789,  36.4782,  36.4794,  36.4792,  36.4808,  36.4832,\n",
      "        36.4813,  36.4815,  36.484 ,  36.4851,  36.4857,  36.4864,\n",
      "        36.4867,  36.4877,  36.4895,  36.4899,  36.4912,  36.4913,\n",
      "        36.4919,  36.4921,  36.492 ,  36.4909,  36.4917,  36.491 ,\n",
      "        36.4911,  36.4905,  36.489 ,  36.4844,  36.4639,  36.4454,\n",
      "        36.4429,  36.4432,  36.4438,  36.4397]), array([ 33.5041,  33.4672,  33.4289,  33.4873,  33.6685,  33.6009,\n",
      "        33.7189,  33.8104,  33.824 ,  33.8423,  33.9237,  34.0454,\n",
      "        34.1062,  34.183 ,  34.3096,  34.4579,  34.6524,  34.7371,\n",
      "        34.7625,  34.7799,  34.901 ,  35.0866,  35.2271,  35.2767,\n",
      "        35.2926,  35.3094,  35.3233,  35.3633,  35.416 ,  35.4609,\n",
      "        35.5641,  35.6338,  35.6513,  35.7102,  35.7408,  35.7539,\n",
      "        35.7587,  35.7673,  35.7723,  35.7739,  35.7758,  35.7786,\n",
      "        35.7851,  35.781 ,  35.7836,  35.7884,  35.7894]), array([ 20.9844,  22.3223,  24.0611,  24.9504,  28.0605,  27.8466,\n",
      "        28.9774,  30.1526,  30.7465,  31.4356,  31.9603,  32.3908,\n",
      "        32.7675,  33.1684,  33.6612,  33.8696,  33.9718,  34.0484,\n",
      "        34.2711,  34.3858]), array([ 31.364 ,  31.3631,  31.3616,  31.3605,  31.3588,  31.3597,\n",
      "        31.3577,  31.3876,  31.4594,  31.49  ,  31.4858,  31.4643,\n",
      "        31.5647,  31.774 ,  31.845 ,  31.9323,  32.1692,  32.3795,\n",
      "        32.5539,  32.8289]), array([ 19.5275,  19.489 ,  19.5744,  20.7833,  26.271 ,  28.323 ,\n",
      "        29.3051,  29.8358,  30.3752,  30.9884,  31.428 ,  31.7848,\n",
      "        32.4732,  32.7811,  32.7763,  32.7847]), array([ 16.4374,  16.5611,  18.1267,  22.6259,  25.1122,  26.6055,\n",
      "        28.4587,  29.38  ,  30.4593,  30.8278,  31.125 ,  31.8318,\n",
      "        32.894 ,  33.9029,  34.4027,  34.9265,  35.2607,  35.4546,\n",
      "        35.6159,  35.7831,  35.8299,  35.871 ,  35.8903,  35.9271,\n",
      "        35.9561,  35.9942,  36.036 ,  36.0687,  36.0834,  36.0936,\n",
      "        36.1013,  36.1035,  36.1039]), array([ 32.4638,  32.4551,  33.2302,  33.0632,  32.8537,  32.8346,\n",
      "        32.9109,  32.8583,  32.8569,  32.7509,  33.201 ,  34.09  ,\n",
      "        34.2568,  34.3064,  34.3096,  34.3115,  34.4032,  34.5245,\n",
      "        34.5745,  34.6559,  34.8232,  34.8877,  34.9273,  35.0134,\n",
      "        35.1344,  35.212 ,  35.228 ,  35.2852,  35.3367,  35.4448,\n",
      "        35.5353,  35.6201,  35.659 ,  35.7127]), array([ 26.581 ,  28.45  ,  27.9096,  28.7484,  30.1251,  29.7048,\n",
      "        29.6854,  31.6154,  31.934 ,  31.8468,  32.2675,  33.014 ,\n",
      "        33.1302,  33.0821,  33.1528,  33.3655,  33.5522,  33.6476,\n",
      "        33.7236,  33.7849,  33.8726,  33.9247,  33.9809,  34.0432,\n",
      "        34.0819,  34.2005,  34.4611,  34.6407,  34.8175,  35.12  ,\n",
      "        35.4272,  35.5868,  35.713 ,  35.7553,  35.7622,  35.7653,  35.7336]), array([ 24.2138,  24.1977,  24.1999,  24.1981,  24.2021,  24.2058,\n",
      "        24.2183,  24.288 ,  24.6202,  26.5174,  28.6079,  30.2593,\n",
      "        31.1846,  31.6593,  32.0989,  32.445 ,  33.0565,  33.6815,\n",
      "        34.2569,  33.8967,  34.4191,  34.6035,  34.9525,  35.1558,\n",
      "        35.3272,  35.4662,  35.6213,  35.7102,  35.8652,  35.9849,\n",
      "        36.061 ,  36.1732,  36.2785,  36.3122,  36.3347,  36.3446,\n",
      "        36.3678,  36.375 ,  36.3931,  36.3986,  36.4097,  36.4251,\n",
      "        36.4349,  36.439 ,  36.4436,  36.4482,  36.45  ,  36.451 ,\n",
      "        36.4507,  36.4504,  36.4504,  36.4538,  36.463 ,  36.4674,\n",
      "        36.4685,  36.4705,  36.4739,  36.475 ,  36.4713,  36.4688,\n",
      "        36.4676,  36.4617,  36.4583,  36.456 ,  36.4528,  36.4476,\n",
      "        36.4449,  36.4424,  36.4412,  36.4408,  36.4398,  36.439 ,\n",
      "        36.4374,  36.4358,  36.4348,  36.4367,  36.438 ,  36.4323,\n",
      "        36.4265,  36.4289,  36.4336,  36.4198,  36.4165,  36.4166,\n",
      "        36.4159,  36.4144,  36.4145,  36.4144,  36.4135,  36.4114,\n",
      "        36.4098,  36.4082,  36.4068,  36.4047,  36.4079,  36.4127,\n",
      "        36.4145,  36.4189,  36.4209,  36.422 ,  36.4235,  36.4248,\n",
      "        36.4264,  36.4267,  36.4271]), array([ 33.752 ,  33.7488,  33.745 ,  33.7484,  33.8665,  33.9801,\n",
      "        33.9903,  34.1314,  34.5833,  34.8711,  35.6123,  35.8605,\n",
      "        35.8914,  35.9063,  35.9065,  35.9077,  35.9087,  35.909 ,\n",
      "        35.9095,  35.9094,  35.9097,  35.9095,  35.9097,  35.9046,\n",
      "        35.91  ,  35.9087,  35.9081]), array([ 33.0645,  33.1358,  33.2365,  33.3215,  33.3617,  33.3869,\n",
      "        33.434 ,  33.4717,  33.5588,  33.6302,  33.7245,  33.846 ,\n",
      "        33.9177,  33.9923,  34.0387,  34.1105,  34.2836,  34.4052,\n",
      "        34.5293,  34.6637,  34.7635,  34.8417,  34.9495,  35.0267,\n",
      "        35.1099,  35.2951,  35.4211,  35.5218,  35.6872,  35.7523,\n",
      "        35.8124,  35.88  ,  35.8965,  35.9151,  35.9724,  36.0327,\n",
      "        36.0574,  36.063 ,  36.0652,  36.0676,  36.0724,  36.0889,\n",
      "        36.1011,  36.1097,  36.11  ,  36.1123,  36.1146,  36.1127]), array([ 21.6858,  23.8252,  24.7141,  24.9052,  25.2076,  25.9246,\n",
      "        26.0964,  26.5029,  26.9461,  27.2526,  29.4973,  32.0933,\n",
      "        33.3165,  33.8477,  34.296 ,  34.6409,  34.7021,  34.7319,\n",
      "        34.7967,  34.8652,  34.8952,  34.9103,  34.9364,  34.9724,\n",
      "        35.0119,  35.0348,  35.047 ,  35.0659,  35.0826,  35.1481,\n",
      "        35.2998,  35.3632,  35.3689,  35.4018,  35.4174,  35.4669,\n",
      "        35.5219,  35.5636,  35.6139,  35.669 ,  35.7145,  35.8352,\n",
      "        35.8957,  35.9402,  35.9748,  36.0505,  36.1066,  36.1229,\n",
      "        36.2006,  36.3279,  36.4066,  36.4722,  36.5105,  36.5108,\n",
      "        36.5113,  36.5275,  36.5253,  36.5255,  36.5294,  36.5289,\n",
      "        36.5211,  36.5103,  36.5007,  36.5151,  36.5194,  36.5179,\n",
      "        36.5112,  36.5068,  36.5059,  36.5094,  36.506 ,  36.5026,\n",
      "        36.4959,  36.4901,  36.4857,  36.481 ,  36.4745,  36.4748,\n",
      "        36.4739,  36.4715,  36.474 ,  36.4739,  36.4727,  36.4717,\n",
      "        36.47  ,  36.4706,  36.4703,  36.47  ,  36.471 ,  36.4707,\n",
      "        36.4701,  36.4697,  36.4692,  36.4713,  36.4719,  36.4728,\n",
      "        36.4729,  36.4741,  36.4745,  36.4749,  36.474 ,  36.4739,\n",
      "        36.4714,  36.4714,  36.4708,  36.4661,  36.4596,  36.4569,\n",
      "        36.4583,  36.458 ,  36.455 ,  36.4589,  36.4594,  36.461 ]), array([ 35.7627,  35.7575,  35.7569,  35.7562,  35.7562,  35.7559,\n",
      "        35.7563,  35.7568,  35.7569,  35.7565,  35.7562,  35.7568,\n",
      "        35.7566,  35.7565,  35.757 ,  35.7624,  35.7654,  35.7648,\n",
      "        35.7637,  35.7649,  35.7653,  35.7656,  35.766 ,  35.7656,\n",
      "        35.7727,  35.7752,  35.7766,  35.7742,  35.7757,  35.7695,\n",
      "        35.7657,  35.7663,  35.7951,  35.8357,  35.8404,  35.9154,  36.0218]), array([ 34.3978,  34.4077,  34.4076,  34.4113,  34.4193,  34.4377,\n",
      "        34.4859,  34.5631,  34.6619,  34.7698,  34.8698,  34.9339,\n",
      "        34.9665,  35.0231,  35.3391,  35.4186,  35.5592,  35.7037,\n",
      "        35.7952,  35.882 ,  35.8639,  35.9011,  35.9012,  35.9276,\n",
      "        35.9283,  35.9278,  35.9233,  35.9232,  35.9327,  35.9387,\n",
      "        35.9558,  35.9759,  36.0092,  36.0402,  36.0293,  36.0569,\n",
      "        36.0692,  36.0692,  36.0698,  36.0695,  36.0704,  36.0704,\n",
      "        36.071 ,  36.0698,  36.0731,  36.088 ,  36.0957,  36.1006,\n",
      "        36.1016,  36.1022,  36.1031,  36.1037,  36.1042,  36.104 ,\n",
      "        36.1049,  36.1045,  36.1041]), array([ 22.9535,  26.0135,  25.7546,  28.6557,  29.6188,  29.9821,\n",
      "        30.4973,  31.5254,  32.1277,  32.2607,  32.2676,  32.3694,\n",
      "        32.637 ,  32.9656,  33.3373,  33.4428,  33.5821,  33.7568]), array([ 30.377 ,  30.6466,  30.5207,  30.4903,  30.4607,  30.4584,\n",
      "        30.4794,  30.4437,  30.4117,  30.5264,  30.7382,  30.868 ,\n",
      "        31.1415,  31.3512,  31.6284,  31.8438,  31.9816,  32.4534,\n",
      "        32.9053,  33.0582]), array([ 35.8532,  35.8517,  35.852 ,  35.8516,  35.852 ,  35.8524,\n",
      "        35.8549,  35.8536,  35.854 ,  35.8543,  35.8554,  35.856 ,\n",
      "        35.8565,  35.857 ,  35.8591,  35.8611,  35.8593,  35.8629,\n",
      "        35.8656,  35.8693,  35.8659,  35.8666,  35.8663,  35.8647,\n",
      "        35.8637,  35.8649,  35.8646,  35.8648,  35.8655,  35.866 ,\n",
      "        35.8663,  35.8663,  35.8666,  35.8663,  35.8669,  35.8688,\n",
      "        35.8704,  35.8714,  35.8766,  35.8841,  35.8989,  35.908 ,\n",
      "        35.9121,  35.9177,  35.9189,  35.9446,  35.9634,  35.9451,\n",
      "        35.9483,  35.9428,  35.947 ,  35.9558,  35.9702,  35.9765,\n",
      "        35.9834,  35.9891,  35.9954,  36.003 ,  36.0063,  36.0218,\n",
      "        36.0471,  36.0702,  36.0878,  36.1162,  36.1459,  36.1616,\n",
      "        36.1663,  36.1683,  36.1706,  36.1705,  36.171 ,  36.1707,\n",
      "        36.171 ,  36.1712,  36.1698]), array([ 25.0519,  25.4742,  25.4386,  25.5987,  25.4779,  25.8276,\n",
      "        26.6049,  30.554 ,  32.3543,  32.6253,  32.6649,  32.8268,\n",
      "        33.0866,  33.4197,  33.8667,  34.3191,  34.5865,  34.707 ,\n",
      "        34.9277,  35.3499,  35.7266,  35.7438,  35.8086,  35.8633,\n",
      "        35.9748,  36.0253,  36.0806,  36.1385,  36.2013,  36.2517,\n",
      "        36.2742,  36.2938,  36.3058,  36.3095,  36.3138,  36.3229,\n",
      "        36.3249,  36.3263,  36.3261,  36.3251,  36.3352,  36.3439,\n",
      "        36.3548,  36.3615,  36.37  ,  36.3767,  36.3819,  36.3831,\n",
      "        36.3842,  36.3851,  36.3851,  36.3849,  36.3837]), array([ 34.2423,  34.2413,  34.2362,  34.2376,  34.24  ,  34.2491,\n",
      "        34.259 ,  34.2543,  34.3298,  34.4735,  34.5205,  34.4339,\n",
      "        34.5026,  34.7972,  35.0206,  34.9335,  35.1565,  35.3258,\n",
      "        35.2572,  35.3498,  35.5987,  35.6536,  35.6443,  35.7123,\n",
      "        35.7512,  35.8165,  35.8817,  35.8952,  35.9719,  35.9951,\n",
      "        36.0183,  36.0374,  36.0616,  36.0749,  36.0847,  36.0913]), array([ 22.9577,  24.1114,  23.8768,  23.5937,  25.7708,  26.951 ,\n",
      "        27.7252,  29.1184,  30.8796,  31.9579,  32.5303,  32.6337,\n",
      "        32.7321,  33.3101]), array([ 24.2109,  24.2075,  24.2282,  24.2502,  24.4042,  25.0108,\n",
      "        25.8212,  26.5445,  27.5835,  28.5006,  28.8853,  30.0949,\n",
      "        30.8855,  31.1509,  31.3584,  31.4395,  30.8561,  31.0652,\n",
      "        31.7203,  31.8568,  32.295 ,  32.7712,  33.6139,  33.9766,\n",
      "        34.3817,  34.6572,  34.8591,  35.037 ,  35.3332,  35.5175,\n",
      "        35.6613,  35.7968,  35.9807,  36.0661,  36.1264,  36.1594,\n",
      "        36.1885,  36.2285,  36.2671,  36.3009,  36.3295,  36.3536,\n",
      "        36.371 ,  36.3748,  36.3885,  36.4107,  36.4365,  36.4414,\n",
      "        36.4383,  36.4385,  36.4513,  36.455 ,  36.4604,  36.4722,\n",
      "        36.4774,  36.4813,  36.482 ,  36.4773,  36.4823,  36.482 ,\n",
      "        36.4816,  36.4799,  36.4761,  36.4726,  36.4623,  36.4556,\n",
      "        36.4485,  36.438 ,  36.4294,  36.4259,  36.4222,  36.4168,\n",
      "        36.4014,  36.3894,  36.3769,  36.3766,  36.3719,  36.3718,\n",
      "        36.3782,  36.3962,  36.4117,  36.417 ,  36.4241,  36.4288,\n",
      "        36.4308,  36.4315,  36.4329,  36.4348,  36.435 ,  36.4344,\n",
      "        36.434 ,  36.4332,  36.432 ,  36.4318,  36.4319,  36.4324,\n",
      "        36.4327,  36.4323,  36.4326,  36.4325,  36.4324,  36.4323,\n",
      "        36.4322,  36.4323,  36.4336,  36.4342,  36.4347,  36.4365,\n",
      "        36.437 ,  36.4375,  36.438 ,  36.438 ,  36.4381,  36.4385,\n",
      "        36.4385,  36.4386,  36.4385,  36.4382]), array([ 30.1232,  29.0417,  29.6751,  29.7964,  29.7807,  30.3123,\n",
      "        31.1049,  31.4525,  32.157 ,  32.5819,  32.6372,  32.7461,\n",
      "        32.8606,  32.9149,  33.0378,  33.2202,  33.3093,  33.432 ,\n",
      "        33.5087,  33.5905,  33.8241,  34.2195,  34.5263,  34.6281,\n",
      "        34.7082,  34.8423,  35.0654,  35.3531,  35.5235,  35.6279,\n",
      "        35.7158,  35.7296,  35.7457,  35.7566,  35.7675,  35.7694,  35.774 ]), array([ 20.4544,  21.1735,  22.0703,  22.9134,  23.0276,  23.1704,\n",
      "        23.5589,  23.9354,  25.1003,  24.9598,  25.3425,  25.9058,\n",
      "        27.0019,  28.2609,  29.2154,  29.9691,  30.3258,  30.6059,\n",
      "        31.2899,  32.5378,  33.2676,  33.7034,  34.0716,  34.4521,\n",
      "        34.5282,  34.6949,  34.9063,  35.1016,  35.1797,  35.195 ,\n",
      "        35.2059,  35.2257,  35.259 ,  35.2673,  35.2759,  35.3615,\n",
      "        35.5133,  35.6681,  35.826 ,  35.9397,  36.0405,  36.114 ,\n",
      "        36.1461,  36.1402,  36.1953,  36.2836,  36.3352,  36.3955,\n",
      "        36.401 ,  36.3931,  36.3848,  36.3987,  36.42  ,  36.445 ,\n",
      "        36.4554,  36.456 ,  36.457 ,  36.4577,  36.4627,  36.4654,\n",
      "        36.4673,  36.4774,  36.4835,  36.4849,  36.4872,  36.4879,\n",
      "        36.49  ,  36.491 ,  36.4912,  36.4914,  36.4921,  36.4934,\n",
      "        36.4925,  36.492 ,  36.489 ,  36.4876,  36.4846,  36.4806,\n",
      "        36.4803,  36.4902,  36.4785,  36.4711,  36.4681,  36.4685,\n",
      "        36.4671,  36.4628,  36.4582,  36.4562,  36.4573,  36.4604,\n",
      "        36.4613,  36.4614,  36.4606,  36.46  ,  36.4578,  36.4517,\n",
      "        36.4498,  36.4489,  36.4469,  36.4459,  36.4523,  36.4564,\n",
      "        36.4532,  36.4505,  36.4482,  36.4499,  36.4488,  36.4533,\n",
      "        36.4574,  36.4586,  36.4586,  36.4583,  36.4607,  36.4636,\n",
      "        36.4647,  36.465 ,  36.4645,  36.4633,  36.4605,  36.4597,\n",
      "        36.4588,  36.4555,  36.4563,  36.4567,  36.455 ,  36.4563,\n",
      "        36.4573,  36.4581,  36.4592,  36.4601,  36.4599,  36.4605,\n",
      "        36.4607,  36.4608,  36.4607,  36.4608,  36.4612,  36.4613,\n",
      "        36.4614,  36.4612,  36.459 ]), array([ 34.2577,  34.2554,  34.2446,  34.2526,  34.2493,  34.3372,\n",
      "        34.5133,  34.5124,  34.4181,  34.4403,  34.4635,  34.5355,\n",
      "        34.6224,  34.8327,  35.0647,  34.7999,  35.4918,  35.6703,\n",
      "        35.7061,  35.9548,  35.7896,  35.7465,  35.7676,  35.9495,\n",
      "        36.1333,  36.1022,  36.1025,  36.1024,  36.102 ,  36.1038,\n",
      "        36.1035,  36.1033,  36.1044,  36.1039,  36.1032,  36.1037,\n",
      "        36.1039,  36.1042,  36.1043,  36.1039,  36.1045]), array([ 34.4244,  34.4149,  34.4138,  34.415 ,  34.4144,  34.4144,\n",
      "        34.4154,  34.4199,  34.4273,  34.432 ,  34.4405,  34.4466,\n",
      "        34.4493,  34.4507,  34.4511,  34.4524,  34.4536,  34.456 ,\n",
      "        34.4693,  34.6237,  34.8802,  35.0467,  35.2481,  35.3956,\n",
      "        35.4988,  35.5211,  35.539 ,  35.565 ,  35.5693,  35.5699,\n",
      "        35.5838,  35.6084,  35.6339,  35.7099,  35.7959,  35.8699,\n",
      "        35.9057,  35.9364,  35.9508,  35.9686,  35.9734,  35.9747,\n",
      "        35.9756,  35.9756,  35.9757,  35.9758,  35.9752,  35.9757]), array([ 17.3334,  18.1414,  18.0356,  17.2727,  19.7937,  20.2369,\n",
      "        21.5121,  22.2132,  22.692 ,  23.7521,  24.4939,  29.3455,  34.0687]), array([ 36.2523,  36.253 ,  36.2529,  36.2529,  36.2526,  36.2536,\n",
      "        36.2538,  36.2542,  36.2548,  36.2545,  36.2543,  36.2546,\n",
      "        36.2543,  36.2551,  36.2554,  36.2546,  36.2545,  36.2547,\n",
      "        36.2547,  36.2542,  36.2539,  36.2555,  36.2552,  36.2552,\n",
      "        36.2563,  36.2561,  36.2563,  36.2573,  36.2578,  36.2578,\n",
      "        36.2578,  36.2588,  36.2619,  36.2612,  36.261 ,  36.2623,\n",
      "        36.2612,  36.2633,  36.2635,  36.2638,  36.2635,  36.2627,\n",
      "        36.2631,  36.2646,  36.2665,  36.2686,  36.2691,  36.2742,\n",
      "        36.2792,  36.284 ,  36.286 ,  36.2935,  36.3006,  36.2984,\n",
      "        36.3058,  36.3288,  36.3657,  36.375 ,  36.3895,  36.4242,\n",
      "        36.4215,  36.4222,  36.4222,  36.4211,  36.4202,  36.4176,\n",
      "        36.4141,  36.411 ,  36.4107,  36.4092,  36.4072]), array([ 23.854 ,  23.8624,  24.6869,  25.0518,  25.5027,  25.77  ,\n",
      "        26.1934,  26.7697,  27.715 ,  29.6364,  30.9007,  31.4599,\n",
      "        32.7785,  33.333 ,  33.5899,  33.5986]), array([ 23.567 ,  24.0117,  24.9304,  25.5409,  25.6731,  26.9162,\n",
      "        26.8082,  27.3211,  27.5051,  27.5716,  28.3002,  29.6469,\n",
      "        30.3206,  30.792 ,  30.9031,  31.4961,  32.0411,  32.5978,\n",
      "        33.0705,  34.1925,  34.6754,  34.9106,  35.0325,  35.1661,\n",
      "        35.3387,  35.3683,  35.4001,  35.4179,  35.4332,  35.4852,\n",
      "        35.5448,  35.7248,  35.8246,  35.8821,  35.9106,  35.9384,\n",
      "        35.9953,  36.012 ,  36.0258,  36.0336,  36.0466,  36.0572,\n",
      "        36.0986,  36.1878,  36.3117,  36.3483,  36.3559,  36.3557,\n",
      "        36.3418,  36.3492,  36.3357,  36.3282,  36.3182,  36.3274,\n",
      "        36.3351,  36.355 ,  36.4498,  36.5145,  36.526 ,  36.5245,\n",
      "        36.5223,  36.5256,  36.5252,  36.5276,  36.5318,  36.5343,\n",
      "        36.5383,  36.5392,  36.5381,  36.5385,  36.539 ,  36.5385,\n",
      "        36.5305,  36.5135,  36.4996,  36.4885,  36.4706,  36.4447,\n",
      "        36.4558,  36.4594,  36.4629,  36.4692,  36.4668,  36.4652,\n",
      "        36.4635,  36.4637,  36.4731,  36.4747,  36.4753,  36.4722,\n",
      "        36.473 ,  36.4737,  36.4687,  36.4682,  36.4681,  36.4691,\n",
      "        36.4665,  36.4652,  36.4622,  36.4604,  36.4619,  36.4606,\n",
      "        36.4607,  36.4583,  36.4571,  36.4559,  36.4568,  36.4596,\n",
      "        36.461 ,  36.4614,  36.4612,  36.4625,  36.4629,  36.4635]), array([ 30.3166,  30.3102,  30.2916,  30.2913,  30.2907,  30.2909,\n",
      "        30.2933,  30.2915,  30.3155,  30.3641,  30.4326,  30.512 ,\n",
      "        30.7118,  30.9266,  31.0356,  31.162 ,  31.3368,  31.6123,\n",
      "        32.1229,  32.9253,  32.9886,  33.0755,  33.1313]), array([ 31.4158,  31.4314,  31.5086,  31.7358,  31.8809,  31.907 ,\n",
      "        32.0024,  32.0898,  32.2701,  32.2801,  32.2983,  32.3225,\n",
      "        32.3456,  32.4533,  32.5571,  32.7043,  32.8968,  33.1778,\n",
      "        33.3747,  33.5946,  33.8314,  34.6961,  35.2656,  35.3703,\n",
      "        35.462 ,  35.5061,  35.5233,  35.5508,  35.5844,  35.613 ,\n",
      "        35.6294,  35.6381,  35.645 ,  35.6637,  35.6868,  35.6959,\n",
      "        35.7058,  35.7092]), array([ 24.6008,  24.5791,  24.6534,  24.9127,  25.594 ,  26.6522,\n",
      "        27.1451,  27.2233,  27.7017,  28.085 ,  28.367 ,  28.4437,\n",
      "        28.5933,  28.6833,  29.0172,  29.4832,  30.7907,  32.4988,\n",
      "        33.0456,  33.5047,  33.9539,  34.1491,  34.361 ,  34.6049,\n",
      "        34.9202,  35.2877,  35.5241,  35.6308,  35.6991,  35.7572,\n",
      "        35.8081,  35.8364,  35.8755,  35.9205,  35.9425,  35.9594,\n",
      "        35.9746,  35.9864,  36.0028,  36.0322,  36.0672,  36.1006,\n",
      "        36.1322,  36.1845,  36.2633,  36.2986,  36.3303,  36.3452,\n",
      "        36.3459,  36.3433,  36.3459,  36.351 ,  36.3507,  36.3504,\n",
      "        36.3493,  36.3475,  36.3471,  36.3582,  36.3766,  36.394 ,\n",
      "        36.4219,  36.4391,  36.4421,  36.4432,  36.4443,  36.4421,\n",
      "        36.4542,  36.4634,  36.4768,  36.4856,  36.4915,  36.4936,\n",
      "        36.4947,  36.4889,  36.4859,  36.4894,  36.4975,  36.4974,\n",
      "        36.4967,  36.497 ,  36.497 ,  36.4963,  36.4951,  36.4955,\n",
      "        36.4958,  36.4965,  36.4971,  36.4978,  36.4995,  36.4999,\n",
      "        36.5024,  36.5032,  36.5048,  36.5046,  36.5015,  36.5004,\n",
      "        36.4931,  36.4889,  36.488 ,  36.4881,  36.4898,  36.4899,\n",
      "        36.497 ,  36.4979,  36.4975,  36.4968,  36.4945,  36.4934,\n",
      "        36.4922,  36.4915,  36.4912,  36.4911,  36.4909,  36.488 ,\n",
      "        36.4802,  36.4696,  36.4514,  36.44  ,  36.4105,  36.411 ,\n",
      "        36.3995,  36.4206,  36.4433,  36.4471,  36.4504,  36.4559,\n",
      "        36.4553,  36.4545,  36.4562,  36.4507,  36.4563,  36.4454,\n",
      "        36.4531,  36.4576,  36.4571,  36.4534,  36.451 ,  36.4569,\n",
      "        36.4574,  36.4644,  36.4533,  36.4591,  36.4552,  36.4568,\n",
      "        36.4548,  36.4608,  36.451 ,  36.4527,  36.4529,  36.4416,\n",
      "        36.4368,  36.4316,  36.4637,  36.4402,  36.4414,  36.4414,\n",
      "        36.4436,  36.447 ,  36.4439,  36.4424,  36.4389,  36.4383,\n",
      "        36.4386,  36.4389,  36.439 ,  36.4392,  36.4396,  36.4396,\n",
      "        36.4396,  36.4394,  36.4392,  36.4384]), array([ 35.354 ,  35.3526,  35.3522,  35.3522,  35.3517,  35.3519,\n",
      "        35.3517,  35.3515,  35.3515,  35.3514,  35.3518,  35.3525,\n",
      "        35.3524,  35.3897,  35.385 ,  35.3963,  35.4498,  35.4764,\n",
      "        35.4919,  35.52  ,  35.5446,  35.5643,  35.5882,  35.6307,\n",
      "        35.659 ,  35.6745,  35.6886,  35.7201,  35.7425,  35.8549,\n",
      "        35.976 ,  36.0538,  36.0713,  36.0869,  36.0999]), array([ 33.7677,  33.7699,  33.7706,  33.772 ,  33.772 ,  33.7724,\n",
      "        33.773 ,  33.7739,  33.778 ,  33.7806,  33.8022,  33.8332,\n",
      "        33.9463,  34.1275,  34.1547,  34.0915,  34.5753,  34.9629,\n",
      "        35.3346,  35.4969,  35.6148,  35.6827,  35.7038,  35.7177,\n",
      "        35.7323,  35.7633,  35.8046,  35.8314,  35.8475,  35.8526,\n",
      "        35.855 ,  35.8596,  35.8707,  35.8763,  35.8843,  35.8886,\n",
      "        35.899 ,  35.9481,  36.0591,  36.1235,  36.1164,  36.1502,\n",
      "        36.149 ,  36.1508,  36.1492,  36.1541,  36.1547,  36.1547,\n",
      "        36.1559,  36.1558]), array([ 35.1922,  35.1912,  35.1912,  35.1913,  35.1913,  35.1911,\n",
      "        35.19  ,  35.1897,  35.1899,  35.1902,  35.1913,  35.1911,\n",
      "        35.1918,  35.2404,  35.6046,  35.8828,  35.9582,  35.9642,\n",
      "        35.9913,  36.014 ,  36.0248,  36.049 ,  36.0668,  36.0943,\n",
      "        36.1939,  36.2494,  36.2842,  36.2993,  36.303 ,  36.3076,\n",
      "        36.3088,  36.3114,  36.314 ,  36.3144,  36.3153,  36.3163,\n",
      "        36.3163,  36.3169,  36.3164,  36.3151])]\n"
     ]
    }
   ],
   "source": [
    "#initializes a class to save temp and salinity\n",
    "class dataclass(object):\n",
    "    \n",
    "    def __init__(self, obj):\n",
    "        self.obj=obj\n",
    "        self.temp = obj[:,2]\n",
    "        self.salt = obj[:,5]\n",
    "        \n",
    "    def salt_mean(self):\n",
    "        'Returns the mean of the salinity'\n",
    "        return np.mean(self.salt)\n",
    "    \n",
    "    def temp_max(self):\n",
    "        'Returns the maximum temperature value'\n",
    "        return np.amax(self.temp)\n",
    "\n",
    "#loops through each file and performs salt_mean and temp_max and saves them\n",
    "#to var1 and var2\n",
    "#Do I also need to save the salinity and temperature variables?\n",
    "#Is there a way to convert the string name into a variable name so each \n",
    "#class is defined differently and is not overwritten?\n",
    "var1 = []\n",
    "var2 = []\n",
    "temperature = []\n",
    "salinity = []\n",
    "for i,name in enumerate(names):\n",
    "    ob = np.loadtxt('/Users/KatieHutschenreuter/Desktop/python4geosciences/data/MCH/'+name+'.cnv2',skiprows=57)\n",
    "    values = dataclass(ob)\n",
    "    temperature.append(values.temp)\n",
    "    salinity.append(values.salt)\n",
    "    var1.append(values.salt_mean())\n",
    "    var2.append(values.temp_max())\n",
    "\n",
    "print('Average salinity = \\n',var1,'\\n')\n",
    "print('Maximum temperatures = \\n',var2,'\\n')\n",
    "print('Temperature values = \\n',temperature,'\\n')\n",
    "print('Salinity values = \\n',salinity)"
   ]
  },
  {
   "cell_type": "markdown",
   "metadata": {},
   "source": [
    "### 18. (Grad) Running mean\n",
    "\n",
    "Write a function that computes averages using a sliding window over a vector; that is, it should take in a vector and for every element in the vector, compute the average of that point with the N points on either side of the element. N should also be an input parameter, and the function should return the original vector if N=0. The returned vector should be the same size as the input vector.\n",
    "\n",
    "Do not use the `pandas` package or the function `convolve`; instead, use a loop. Use the following API for your function:\n",
    "\n",
    "    Return the running average of a vector, with averaging window of size N.\n",
    "    \n",
    "    Inputs:\n",
    "        vec: Input vector\n",
    "        N (int): Averaging window size, or number of elements to include in mean on either side of each element.\n",
    "    \n",
    "    Outputs:\n",
    "        out: Vector of running-averaged values; same size as vec\n",
    "\n"
   ]
  },
  {
   "cell_type": "code",
   "execution_count": 24,
   "metadata": {
    "collapsed": false
   },
   "outputs": [
    {
     "name": "stdout",
     "output_type": "stream",
     "text": [
      "The origional vector =\n",
      " [  1   2   3   6  53   6 120]\n",
      "The running average of the vector =\n",
      " [  1.5          2.           3.66666667  20.66666667  21.66666667\n",
      "  59.66666667  63.        ]\n"
     ]
    }
   ],
   "source": [
    "def runningavg(vec,N):\n",
    "    '''Return the running average of a vector, with averaging window of size N.\n",
    "\n",
    "    Inputs:\n",
    "    vec: Input vector\n",
    "    N (int): Averaging window size, or number of elements to include in mean on either side of each element.\n",
    "\n",
    "    Outputs:\n",
    "    out: Vector of running-averaged values; same size as vec'''\n",
    "    \n",
    "    out=np.ones(len(vec))\n",
    "    if N==0:\n",
    "        out=vec\n",
    "        return out\n",
    "    else:\n",
    "        if type(N)!=int:\n",
    "            return 'N must be an integer value.'\n",
    "        else:\n",
    "            for i in list(range(len(vec))):\n",
    "                if i-N<0:\n",
    "                    out[i]=np.mean(vec[0:i+(N+1)])\n",
    "                    continue\n",
    "                elif i+N>len(vec):\n",
    "                    out[i]=np.mean(vec[i-N:len(vec)])\n",
    "                    continue\n",
    "                elif i-N<0 and i+N>len(vec):\n",
    "                    out[i]=np.mean(vec)\n",
    "                    continue\n",
    "                else:\n",
    "                    out[i]=np.mean(vec[i-N:i+(N+1)])\n",
    "                    continue\n",
    "            return out\n",
    "\n",
    "vec=np.array([1,2,3,6,53,6,120])\n",
    "N=1\n",
    "out=runningavg(vec,N)\n",
    "print('The origional vector =\\n',vec)\n",
    "print('The running average of the vector =\\n',out)"
   ]
  }
 ],
 "metadata": {
  "kernelspec": {
   "display_name": "Python 3",
   "language": "python",
   "name": "python3"
  },
  "language_info": {
   "codemirror_mode": {
    "name": "ipython",
    "version": 3
   },
   "file_extension": ".py",
   "mimetype": "text/x-python",
   "name": "python",
   "nbconvert_exporter": "python",
   "pygments_lexer": "ipython3",
   "version": "3.5.1"
  }
 },
 "nbformat": 4,
 "nbformat_minor": 0
}
