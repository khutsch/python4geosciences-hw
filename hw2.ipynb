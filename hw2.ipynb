{
 "cells": [
  {
   "cell_type": "code",
   "execution_count": 1,
   "metadata": {
    "collapsed": false
   },
   "outputs": [
    {
     "name": "stdout",
     "output_type": "stream",
     "text": [
      "{'Hometown': 'Baltimore', \"Why I'm taking this class\": 'To use for research', 'Student Status': 'First year grad', 'Department': 'Ocean Engineering'}\n"
     ]
    }
   ],
   "source": [
    "KatieHutschenreuter={}\n",
    "KatieHutschenreuter[\"Hometown\"]=\"Baltimore\"\n",
    "KatieHutschenreuter[\"Department\"]=\"Ocean Engineering\"\n",
    "KatieHutschenreuter[\"Student Status\"]=\"First year grad\"\n",
    "KatieHutschenreuter[\"Why I'm taking this class\"]=\"To use for research\"\n",
    "print(KatieHutschenreuter)"
   ]
  },
  {
   "cell_type": "code",
   "execution_count": null,
   "metadata": {
    "collapsed": true
   },
   "outputs": [],
   "source": []
  }
 ],
 "metadata": {
  "kernelspec": {
   "display_name": "Python 3",
   "language": "python",
   "name": "python3"
  },
  "language_info": {
   "codemirror_mode": {
    "name": "ipython",
    "version": 3
   },
   "file_extension": ".py",
   "mimetype": "text/x-python",
   "name": "python",
   "nbconvert_exporter": "python",
   "pygments_lexer": "ipython3",
   "version": "3.5.1"
  }
 },
 "nbformat": 4,
 "nbformat_minor": 0
}
