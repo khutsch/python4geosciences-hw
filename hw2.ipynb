{
 "cells": [
  {
   "cell_type": "markdown",
   "metadata": {
    "collapsed": true
   },
   "source": [
    "## Homework 2"
   ]
  },
  {
   "cell_type": "markdown",
   "metadata": {},
   "source": [
    "### 1. Make a dictionary\n",
    "\n",
    "Make a dictionary, d, whose keys and values are your name, hometown, department, student status (undergrad/grad), years at TAMU, and explanation of why you are taking this class."
   ]
  },
  {
   "cell_type": "code",
   "execution_count": 1,
   "metadata": {
    "collapsed": false
   },
   "outputs": [
    {
     "name": "stdout",
     "output_type": "stream",
     "text": [
      "{\"Why I'm taking this class\": 'To help with analysing model outputs for my research.', 'Student Status': 'First year grad', 'Department': 'Ocean Engineering', 'Hometown': 'Baltimore', 'Name': 'Katie Hutechenreuter'}\n"
     ]
    }
   ],
   "source": [
    "d={}\n",
    "d['Name']='Katie Hutechenreuter'\n",
    "d[\"Hometown\"]=\"Baltimore\"\n",
    "d[\"Department\"]=\"Ocean Engineering\"\n",
    "d[\"Student Status\"]=\"First year grad\"\n",
    "d[\"Why I'm taking this class\"]=\"To help with analysing model outputs for my research.\"\n",
    "print(d)"
   ]
  },
  {
   "cell_type": "markdown",
   "metadata": {},
   "source": [
    "### 2. Test for vowels\n",
    "\n",
    "Write a function that takes a character (i.e. a string of length 1) and returns True if it is a vowel, False otherwise. For example,\n",
    "    >>> isVowel(\"a\")\n",
    "    True\n",
    "    >>> isVowel(\"b\")\n",
    "    False\n",
    "\n",
    "You can compare the input character with a known list of vowels. Don't forget about case!"
   ]
  },
  {
   "cell_type": "code",
   "execution_count": 11,
   "metadata": {
    "collapsed": false
   },
   "outputs": [
    {
     "name": "stdout",
     "output_type": "stream",
     "text": [
      "True\n",
      "False\n"
     ]
    }
   ],
   "source": [
    "def isvowel(a):\n",
    "    #a is a string of length 1\n",
    "    if a=='a' or a=='e' or a=='i' or a=='o' or a=='u':\n",
    "        return 'True'\n",
    "    else:\n",
    "        return 'False'\n",
    "print(isvowel('a'))\n",
    "print(isvowel('c'))"
   ]
  },
  {
   "cell_type": "markdown",
   "metadata": {},
   "source": [
    "### 3. Compute the length of a given list or string.\n",
    "\n",
    "Define a function that computes the length of a given list or string. (It is true that Python has the len() function built in, but do not use it for your solution — use a loop instead.)\n",
    "\n",
    "For example:\n",
    "    >>> length(['string1', 'string2'])\n",
    "    2\n",
    "    >>> length('string1')\n",
    "    7"
   ]
  },
  {
   "cell_type": "code",
   "execution_count": 94,
   "metadata": {
    "collapsed": false
   },
   "outputs": [
    {
     "data": {
      "text/plain": [
       "2"
      ]
     },
     "execution_count": 94,
     "metadata": {},
     "output_type": "execute_result"
    }
   ],
   "source": [
    "def length(x):\n",
    "    ct=0\n",
    "    for i in x:\n",
    "        ct += 1\n",
    "    \n",
    "    return ct\n",
    "\n",
    "length([1, 2, 3, 4, 5])\n",
    "length(['string1', 'string2'])"
   ]
  },
  {
   "cell_type": "markdown",
   "metadata": {
    "collapsed": true
   },
   "source": [
    "### 4. Reverse a string\n",
    "\n",
    "Define a function reverse() that computes the reversal of a string. For example, \n",
    "    >>> reverse(\"I am testing\")\n",
    "    \"gnitset ma I\""
   ]
  },
  {
   "cell_type": "code",
   "execution_count": 24,
   "metadata": {
    "collapsed": false
   },
   "outputs": [
    {
     "data": {
      "text/plain": [
       "'gnitset ma I'"
      ]
     },
     "execution_count": 24,
     "metadata": {},
     "output_type": "execute_result"
    }
   ],
   "source": [
    "def reverse(str1):\n",
    "    revstr=str1[len(str1):0:-1] + str1[0]\n",
    "    return revstr\n",
    "\n",
    "reverse(\"I am testing\")"
   ]
  },
  {
   "cell_type": "markdown",
   "metadata": {},
   "source": [
    "### 5. Check for palindromes\n",
    "\n",
    "Define a function is_palindrome() that recognizes palindromes (i.e. words and phrases that look the same written forwards and backwards). Make sure that case and spaces are ignored in your function; for example,\n",
    "    >>> is_palindrome(\"Never odd or even\")\n",
    "    True\n",
    "\n",
    "You can use your solution to #4 for solving this problem."
   ]
  },
  {
   "cell_type": "code",
   "execution_count": 1,
   "metadata": {
    "collapsed": false
   },
   "outputs": [
    {
     "name": "stdout",
     "output_type": "stream",
     "text": [
      "True\n",
      "False\n"
     ]
    }
   ],
   "source": [
    "def is_palindrome(str1):\n",
    "    revstr=str1[len(str1):0:-1] + str1[0]\n",
    "    if revstr == str1:\n",
    "        return 'True'\n",
    "    else:\n",
    "        return 'False'\n",
    "    \n",
    "print(is_palindrome('racecar'))\n",
    "print(is_palindrome('katie'))"
   ]
  },
  {
   "cell_type": "markdown",
   "metadata": {},
   "source": [
    "### 6. Number lines in a text file\n",
    "\n",
    "Write a script (i.e., just code, no need to write a function) that numbers all of the lines in a text file, skipping empty lines, and writes the output to another specified file. The output file might look something like\n",
    "\n",
    "    1    This is the first line\n",
    "    2    This is the second line\n",
    "    \n",
    "    3    This is the fourth line\n",
    "\n",
    "where the third line is empty, and not counted."
   ]
  },
  {
   "cell_type": "code",
   "execution_count": 70,
   "metadata": {
    "collapsed": false
   },
   "outputs": [
    {
     "name": "stdout",
     "output_type": "stream",
     "text": [
      "1 line 1\n",
      "2 line 2\n",
      "3 line 3\n",
      "\n",
      "4 line 4\n",
      "5 line 5\n"
     ]
    }
   ],
   "source": [
    "txt=open('file.txt') \n",
    "ct=1\n",
    "newfile=[]\n",
    "for lines in txt.readlines():\n",
    "    if lines == '\\n':\n",
    "        newfile.append('\\n')\n",
    "    elif lines != []:\n",
    "        newfile.append(str(ct)+' '+lines)\n",
    "        ct +=1\n",
    "\n",
    "newfile=''.join(newfile)\n",
    "print(newfile)\n",
    "with open('output.txt','w') as out:\n",
    "    out.write(newfile)"
   ]
  },
  {
   "cell_type": "markdown",
   "metadata": {},
   "source": [
    "### 7. Convert list of words into list of integers of length of words\n",
    "\n",
    "Write a series of functions that maps a list of words into a list of integers representing the lengths of the correponding words. Write them in three different ways: \n",
    "\n",
    "1. using a for-loop\n",
    "\n",
    "2. using the higher order function map(), and \n",
    "\n",
    "3. using list comprehensions. \n",
    "\n",
    "Do not use the len() function.\n",
    "\n",
    "For example,\n",
    "\n",
    "    >>> method1(['list', 'of', 'words'])\n",
    "    [4, 2, 5]"
   ]
  },
  {
   "cell_type": "code",
   "execution_count": 117,
   "metadata": {
    "collapsed": false
   },
   "outputs": [
    {
     "data": {
      "text/plain": [
       "[4, 2, 5]"
      ]
     },
     "execution_count": 117,
     "metadata": {},
     "output_type": "execute_result"
    }
   ],
   "source": [
    "a=['list','of','words']\n",
    "\n",
    "def method1(a):\n",
    "    lengths=[]\n",
    "    for words in a:\n",
    "        ctletter=0\n",
    "        for letter in words:\n",
    "            ctletter+=1\n",
    "        lengths.append(ctletter)\n",
    "    return lengths\n",
    "        \n",
    "\n",
    "method1(a)  \n",
    "                 "
   ]
  },
  {
   "cell_type": "code",
   "execution_count": 119,
   "metadata": {
    "collapsed": false
   },
   "outputs": [
    {
     "data": {
      "text/plain": [
       "[4, 2, 5]"
      ]
     },
     "execution_count": 119,
     "metadata": {},
     "output_type": "execute_result"
    }
   ],
   "source": [
    "def method2(a):\n",
    "    lengths=map(length,a)\n",
    "    return lengths\n",
    "\n",
    "list(method2(a))"
   ]
  },
  {
   "cell_type": "code",
   "execution_count": 108,
   "metadata": {
    "collapsed": false
   },
   "outputs": [
    {
     "data": {
      "text/plain": [
       "[4, 2, 5]"
      ]
     },
     "execution_count": 108,
     "metadata": {},
     "output_type": "execute_result"
    }
   ],
   "source": [
    "def method3(a):\n",
    "    lengths=[sum([1 for letter in word]) for word in a]\n",
    "    return lengths\n",
    "method3(a)"
   ]
  },
  {
   "cell_type": "markdown",
   "metadata": {},
   "source": [
    "### 8. In cryptography, a Caesar cipher is a very simple encryption techniques in which each letter in the plain text is replaced by a letter some fixed number of positions down the alphabet. For example, with a shift of 3, A would be replaced by D, B would become E, and so on. The method is named after Julius Caesar, who used it to communicate with his generals. ROT-13 (\"rotate by 13 places\") is a widely used example of a Caesar cipher where the shift is 13. In Python, the key for ROT-13 may be represented by means of the following dictionary:\n",
    "\n",
    "    key = {'a':'n', 'b':'o', 'c':'p', 'd':'q', 'e':'r', 'f':'s', 'g':'t', 'h':'u', \n",
    "           'i':'v', 'j':'w', 'k':'x', 'l':'y', 'm':'z', 'n':'a', 'o':'b', 'p':'c', \n",
    "           'q':'d', 'r':'e', 's':'f', 't':'g', 'u':'h', 'v':'i', 'w':'j', 'x':'k',\n",
    "           'y':'l', 'z':'m', 'A':'N', 'B':'O', 'C':'P', 'D':'Q', 'E':'R', 'F':'S', \n",
    "           'G':'T', 'H':'U', 'I':'V', 'J':'W', 'K':'X', 'L':'Y', 'M':'Z', 'N':'A', \n",
    "           'O':'B', 'P':'C', 'Q':'D', 'R':'E', 'S':'F', 'T':'G', 'U':'H', 'V':'I', \n",
    "           'W':'J', 'X':'K', 'Y':'L', 'Z':'M'}\n",
    "\n",
    "Your task in this exercise is to implement an encoder/decoder of ROT-13. Once you're done, you will be able to read the following secret message:\n",
    "\n",
    "   Pnrfne pvcure? V zhpu cersre Pnrfne fnynq!\n",
    "Note that since English has 26 characters, your ROT-13 program will be able to both encode and decode texts written in English."
   ]
  },
  {
   "cell_type": "code",
   "execution_count": 253,
   "metadata": {
    "collapsed": false
   },
   "outputs": [
    {
     "name": "stdout",
     "output_type": "stream",
     "text": [
      "Caesar cipher? I much prefer Caesar salad!\n",
      "Pnrfne pvcure? V zhpu cersre Pnrfne fnynq!\n"
     ]
    }
   ],
   "source": [
    "message='Pnrfne pvcure? V zhpu cersre Pnrfne fnynq!'\n",
    "decodedmessage='Caesar cipher? I much prefer Caesar salad!'\n",
    "\n",
    "def rot13(message):\n",
    "    key = {'a':'n', 'b':'o', 'c':'p', 'd':'q', 'e':'r', 'f':'s', 'g':'t', 'h':'u', \n",
    "           'i':'v', 'j':'w', 'k':'x', 'l':'y', 'm':'z', 'n':'a', 'o':'b', 'p':'c', \n",
    "           'q':'d', 'r':'e', 's':'f', 't':'g', 'u':'h', 'v':'i', 'w':'j', 'x':'k',\n",
    "           'y':'l', 'z':'m', 'A':'N', 'B':'O', 'C':'P', 'D':'Q', 'E':'R', 'F':'S', \n",
    "           'G':'T', 'H':'U', 'I':'V', 'J':'W', 'K':'X', 'L':'Y', 'M':'Z', 'N':'A', \n",
    "           'O':'B', 'P':'C', 'Q':'D', 'R':'E', 'S':'F', 'T':'G', 'U':'H', 'V':'I', \n",
    "           'W':'J', 'X':'K', 'Y':'L', 'Z':'M'}\n",
    "    newmessage=''\n",
    "    for letter in message:\n",
    "        if letter=='!' or letter=='?':\n",
    "            newmessage=newmessage+letter\n",
    "        elif letter==' ':\n",
    "            newmessage=newmessage+letter\n",
    "        else:\n",
    "            newletter=key[letter]\n",
    "            newmessage=newmessage+newletter\n",
    "    return newmessage\n",
    "        \n",
    "print(rot13(message))\n",
    "print(rot13(decodedmessage))"
   ]
  },
  {
   "cell_type": "markdown",
   "metadata": {},
   "source": [
    "### 9. Fix the code\n",
    "\n",
    "\"99 Bottles of Beer\" is a traditional song in the United States and Canada. It is popular to sing on long trips, as it has a very repetitive format which is easy to memorize, and can take a long time to sing. The song's simple lyrics are as follows:\n",
    "\n",
    "99 bottles of beer on the wall, 99 bottles of beer.\n",
    "Take one down, pass it around, 98 bottles of beer on the wall.\n",
    "\n",
    "The same verse is repeated, each time with one fewer bottle. The song is completed when the singer or singers reach zero.\n",
    "\n",
    "Code to generate all verses of this song has already been written and is provided below. However, it has several problems in it that prevent it from running properly. Your task is to fix the code, keeping a list of what you change, so that the code generates 3 verses of the song."
   ]
  },
  {
   "cell_type": "code",
   "execution_count": 1,
   "metadata": {
    "collapsed": false
   },
   "outputs": [
    {
     "ename": "SyntaxError",
     "evalue": "invalid syntax (<ipython-input-1-2eb1e079f71a>, line 4)",
     "output_type": "error",
     "traceback": [
      "\u001b[0;36m  File \u001b[0;32m\"<ipython-input-1-2eb1e079f71a>\"\u001b[0;36m, line \u001b[0;32m4\u001b[0m\n\u001b[0;31m    if num != 1\u001b[0m\n\u001b[0m               ^\u001b[0m\n\u001b[0;31mSyntaxError\u001b[0m\u001b[0;31m:\u001b[0m invalid syntax\n"
     ]
    }
   ],
   "source": [
    "#origional code\n",
    "def words(num):\n",
    "    \"\"\"Returns words with proper number of beer bottles filled in.\"\"\"\n",
    "    \n",
    "    if num != 1\n",
    "        return str(num) + ' bottles of beer on the wall, ' + str(num) + ' bottles of beer.\\n' + \n",
    "            'Take one down, pass it around, ' + str(num-1) + ' bottles of beer on the wall.\\n'\n",
    "\n",
    "    elif num = 1:\n",
    "        return str(num) + ' bottle of beer on the wall, ' + str(num) + ' bottle of beer.\\n' + \\\n",
    "            'Take one down, pass it around, ' + str(num-1) + ' bottles of beer on the wall.\\n'\n",
    "\n",
    "\n",
    "numbottles = 3\n",
    "        \n",
    "for i in range[numbottles, 0, 1]\n",
    " print(words(i))"
   ]
  },
  {
   "cell_type": "code",
   "execution_count": 19,
   "metadata": {
    "collapsed": false
   },
   "outputs": [
    {
     "name": "stdout",
     "output_type": "stream",
     "text": [
      "3 bottles of beer on the wall, 3 bottles of beer.\n",
      "Take one down, pass it around, 2 bottles of beer on the wall.\n",
      "\n",
      "2 bottles of beer on the wall, 2 bottles of beer.\n",
      "Take one down, pass it around, 1 bottles of beer on the wall.\n",
      "\n",
      "1 bottle of beer on the wall, 1 bottle of beer.\n",
      "Take one down, pass it around, 0 bottles of beer on the wall.\n",
      "\n"
     ]
    }
   ],
   "source": [
    "#corrected code \n",
    "def words(num):\n",
    "    \"\"\"Returns words with proper number of beer bottles filled in.\"\"\"\n",
    "    \n",
    "    if num != 1:\n",
    "        return (str(num) + ' bottles of beer on the wall, ' + str(num) + ' bottles of beer.\\n' + \n",
    "            'Take one down, pass it around, ' + str(num-1) + ' bottles of beer on the wall.\\n')\n",
    "\n",
    "    if num == 1:\n",
    "        return (str(num) + ' bottle of beer on the wall, ' + str(num) + ' bottle of beer.\\n' + \\\n",
    "            'Take one down, pass it around, ' + str(num-1) + ' bottles of beer on the wall.\\n')\n",
    "\n",
    "\n",
    "numbottles = 3\n",
    "        \n",
    "for i in range(numbottles,0,-1):\n",
    "     print(words(i))\n",
    "        "
   ]
  },
  {
   "cell_type": "markdown",
   "metadata": {},
   "source": [
    "### 10. Reading in and parsing a file\n",
    "\n",
    "Read in `data/GPS.dat`, a file containing GPS track information. This file is tab-delimited, but contains other characters as well. It has data from several drifters, whose names are listed in the file after the TRACK label; the first is named \"ACTIVE LOG\". \n",
    "\n",
    "Read in the date and time information from the file for the drifter ACTIVE LOG, and form a list of datetime objects with this information, where each line in the file is a data point that should have its own datetime object.\n",
    "\n"
   ]
  },
  {
   "cell_type": "code",
   "execution_count": 3,
   "metadata": {
    "collapsed": false
   },
   "outputs": [],
   "source": [
    "dat=open('/Users/KatieHutschenreuter/Desktop/python4geosciences/data/GPS.dat')"
   ]
  },
  {
   "cell_type": "code",
   "execution_count": 4,
   "metadata": {
    "collapsed": false
   },
   "outputs": [],
   "source": [
    "#Creates string of dates and times to check for loop is correct\n",
    "dat.seek(0)\n",
    "\n",
    "for line in dat.readlines():\n",
    "    data=line.split()\n",
    "    if not data: continue\n",
    "    if data[0]=='Track' and data[1]!='ACTIVE': break\n",
    "    if data[0]=='Trackpoint': \n",
    "        data=(data[5]+' '+data[6])\n",
    "    \n",
    "        "
   ]
  },
  {
   "cell_type": "code",
   "execution_count": 5,
   "metadata": {
    "collapsed": false
   },
   "outputs": [
    {
     "data": {
      "text/plain": [
       "[datetime.datetime(2006, 5, 20, 1, 34, 55),\n",
       " datetime.datetime(2006, 5, 20, 1, 35, 10),\n",
       " datetime.datetime(2006, 5, 20, 1, 35, 25),\n",
       " datetime.datetime(2006, 5, 20, 1, 35, 40),\n",
       " datetime.datetime(2006, 5, 20, 1, 35, 55),\n",
       " datetime.datetime(2006, 5, 20, 1, 36, 10),\n",
       " datetime.datetime(2006, 5, 20, 1, 36, 25),\n",
       " datetime.datetime(2006, 5, 20, 1, 36, 40),\n",
       " datetime.datetime(2006, 5, 20, 1, 36, 55),\n",
       " datetime.datetime(2006, 5, 20, 1, 37, 10),\n",
       " datetime.datetime(2006, 5, 20, 1, 37, 25),\n",
       " datetime.datetime(2006, 5, 20, 1, 37, 40),\n",
       " datetime.datetime(2006, 5, 20, 1, 37, 55),\n",
       " datetime.datetime(2006, 5, 20, 1, 38, 10),\n",
       " datetime.datetime(2006, 5, 20, 1, 38, 25),\n",
       " datetime.datetime(2006, 5, 20, 1, 38, 40),\n",
       " datetime.datetime(2006, 5, 20, 1, 38, 55),\n",
       " datetime.datetime(2006, 5, 20, 1, 39, 10),\n",
       " datetime.datetime(2006, 5, 20, 1, 39, 25),\n",
       " datetime.datetime(2006, 5, 20, 1, 39, 40),\n",
       " datetime.datetime(2006, 5, 20, 1, 39, 55),\n",
       " datetime.datetime(2006, 5, 20, 1, 40, 10),\n",
       " datetime.datetime(2006, 5, 20, 1, 40, 25),\n",
       " datetime.datetime(2006, 5, 20, 1, 40, 40),\n",
       " datetime.datetime(2006, 5, 20, 1, 40, 55),\n",
       " datetime.datetime(2006, 5, 20, 1, 41, 10),\n",
       " datetime.datetime(2006, 5, 20, 1, 41, 25),\n",
       " datetime.datetime(2006, 5, 20, 1, 41, 40),\n",
       " datetime.datetime(2006, 5, 20, 1, 41, 55),\n",
       " datetime.datetime(2006, 5, 20, 1, 42, 10),\n",
       " datetime.datetime(2006, 5, 20, 1, 42, 25),\n",
       " datetime.datetime(2006, 5, 20, 1, 42, 40),\n",
       " datetime.datetime(2006, 5, 20, 1, 42, 55),\n",
       " datetime.datetime(2006, 5, 20, 1, 43, 10),\n",
       " datetime.datetime(2006, 5, 20, 1, 43, 25),\n",
       " datetime.datetime(2006, 5, 20, 1, 43, 40),\n",
       " datetime.datetime(2006, 5, 20, 1, 43, 55),\n",
       " datetime.datetime(2006, 5, 20, 1, 44, 10),\n",
       " datetime.datetime(2006, 5, 20, 1, 44, 25),\n",
       " datetime.datetime(2006, 5, 20, 1, 44, 40),\n",
       " datetime.datetime(2006, 5, 20, 1, 44, 55),\n",
       " datetime.datetime(2006, 5, 20, 1, 45, 10),\n",
       " datetime.datetime(2006, 5, 20, 1, 45, 25),\n",
       " datetime.datetime(2006, 5, 20, 1, 45, 40),\n",
       " datetime.datetime(2006, 5, 20, 1, 45, 55),\n",
       " datetime.datetime(2006, 5, 20, 1, 46, 10),\n",
       " datetime.datetime(2006, 5, 20, 1, 46, 25),\n",
       " datetime.datetime(2006, 5, 20, 1, 46, 40),\n",
       " datetime.datetime(2006, 5, 20, 1, 46, 55),\n",
       " datetime.datetime(2006, 5, 20, 1, 47, 10),\n",
       " datetime.datetime(2006, 5, 20, 1, 47, 25),\n",
       " datetime.datetime(2006, 5, 20, 1, 47, 40),\n",
       " datetime.datetime(2006, 5, 20, 1, 47, 55),\n",
       " datetime.datetime(2006, 5, 20, 1, 48, 10),\n",
       " datetime.datetime(2006, 5, 20, 1, 48, 25),\n",
       " datetime.datetime(2006, 5, 20, 1, 48, 40),\n",
       " datetime.datetime(2006, 5, 20, 1, 48, 55),\n",
       " datetime.datetime(2006, 5, 20, 1, 49, 10),\n",
       " datetime.datetime(2006, 5, 20, 1, 49, 25),\n",
       " datetime.datetime(2006, 5, 20, 1, 49, 40),\n",
       " datetime.datetime(2006, 5, 20, 1, 49, 56),\n",
       " datetime.datetime(2006, 5, 20, 1, 50, 11),\n",
       " datetime.datetime(2006, 5, 20, 1, 50, 26),\n",
       " datetime.datetime(2006, 5, 20, 1, 50, 42),\n",
       " datetime.datetime(2006, 5, 20, 1, 50, 57),\n",
       " datetime.datetime(2006, 5, 20, 1, 51, 12),\n",
       " datetime.datetime(2006, 5, 20, 1, 51, 27),\n",
       " datetime.datetime(2006, 5, 20, 1, 51, 42),\n",
       " datetime.datetime(2006, 5, 20, 1, 51, 57),\n",
       " datetime.datetime(2006, 5, 20, 1, 52, 12),\n",
       " datetime.datetime(2006, 5, 20, 1, 52, 27),\n",
       " datetime.datetime(2006, 5, 20, 1, 52, 42),\n",
       " datetime.datetime(2006, 5, 20, 1, 52, 57),\n",
       " datetime.datetime(2006, 5, 20, 1, 53, 12),\n",
       " datetime.datetime(2006, 5, 20, 1, 53, 27),\n",
       " datetime.datetime(2006, 5, 20, 1, 53, 42),\n",
       " datetime.datetime(2006, 5, 20, 1, 53, 57),\n",
       " datetime.datetime(2006, 5, 20, 1, 54, 12),\n",
       " datetime.datetime(2006, 5, 20, 1, 54, 27),\n",
       " datetime.datetime(2006, 5, 20, 1, 54, 42),\n",
       " datetime.datetime(2006, 5, 20, 1, 54, 57),\n",
       " datetime.datetime(2006, 5, 20, 1, 55, 12),\n",
       " datetime.datetime(2006, 5, 20, 1, 55, 27),\n",
       " datetime.datetime(2006, 5, 20, 1, 55, 42),\n",
       " datetime.datetime(2006, 5, 20, 1, 55, 57),\n",
       " datetime.datetime(2006, 5, 20, 1, 56, 12),\n",
       " datetime.datetime(2006, 5, 20, 1, 56, 27),\n",
       " datetime.datetime(2006, 5, 20, 1, 56, 42),\n",
       " datetime.datetime(2006, 5, 20, 1, 56, 57),\n",
       " datetime.datetime(2006, 5, 20, 1, 57, 12),\n",
       " datetime.datetime(2006, 5, 20, 1, 57, 27),\n",
       " datetime.datetime(2006, 5, 20, 1, 57, 42),\n",
       " datetime.datetime(2006, 5, 20, 1, 57, 57),\n",
       " datetime.datetime(2006, 5, 20, 1, 58, 12),\n",
       " datetime.datetime(2006, 5, 20, 1, 58, 27),\n",
       " datetime.datetime(2006, 5, 20, 1, 58, 42),\n",
       " datetime.datetime(2006, 5, 20, 1, 58, 57),\n",
       " datetime.datetime(2006, 5, 20, 1, 59, 12),\n",
       " datetime.datetime(2006, 5, 20, 1, 59, 27),\n",
       " datetime.datetime(2006, 5, 20, 1, 59, 42),\n",
       " datetime.datetime(2006, 5, 20, 1, 59, 57),\n",
       " datetime.datetime(2006, 5, 20, 2, 0, 12),\n",
       " datetime.datetime(2006, 5, 20, 2, 0, 27),\n",
       " datetime.datetime(2006, 5, 20, 2, 0, 42),\n",
       " datetime.datetime(2006, 5, 20, 2, 0, 57),\n",
       " datetime.datetime(2006, 5, 20, 2, 1, 12),\n",
       " datetime.datetime(2006, 5, 20, 2, 1, 27),\n",
       " datetime.datetime(2006, 5, 20, 2, 1, 42),\n",
       " datetime.datetime(2006, 5, 20, 2, 1, 57),\n",
       " datetime.datetime(2006, 5, 20, 2, 2, 12),\n",
       " datetime.datetime(2006, 5, 20, 2, 2, 27),\n",
       " datetime.datetime(2006, 5, 20, 2, 2, 42),\n",
       " datetime.datetime(2006, 5, 20, 2, 2, 57),\n",
       " datetime.datetime(2006, 5, 20, 2, 3, 12),\n",
       " datetime.datetime(2006, 5, 20, 2, 3, 27),\n",
       " datetime.datetime(2006, 5, 20, 2, 3, 42),\n",
       " datetime.datetime(2006, 5, 20, 2, 3, 57),\n",
       " datetime.datetime(2006, 5, 20, 2, 4, 12),\n",
       " datetime.datetime(2006, 5, 20, 2, 4, 27),\n",
       " datetime.datetime(2006, 5, 20, 2, 4, 42),\n",
       " datetime.datetime(2006, 5, 20, 2, 4, 57),\n",
       " datetime.datetime(2006, 5, 20, 2, 5, 12),\n",
       " datetime.datetime(2006, 5, 20, 2, 5, 27),\n",
       " datetime.datetime(2006, 5, 20, 2, 5, 42),\n",
       " datetime.datetime(2006, 5, 20, 2, 5, 57),\n",
       " datetime.datetime(2006, 5, 20, 2, 6, 12),\n",
       " datetime.datetime(2006, 5, 20, 2, 6, 27),\n",
       " datetime.datetime(2006, 5, 20, 2, 6, 42),\n",
       " datetime.datetime(2006, 5, 20, 2, 6, 57),\n",
       " datetime.datetime(2006, 5, 20, 2, 7, 12),\n",
       " datetime.datetime(2006, 5, 20, 2, 7, 27),\n",
       " datetime.datetime(2006, 5, 20, 2, 7, 42),\n",
       " datetime.datetime(2006, 5, 20, 2, 7, 57),\n",
       " datetime.datetime(2006, 5, 20, 2, 8, 12),\n",
       " datetime.datetime(2006, 5, 20, 2, 8, 27),\n",
       " datetime.datetime(2006, 5, 20, 2, 8, 42),\n",
       " datetime.datetime(2006, 5, 20, 2, 8, 57),\n",
       " datetime.datetime(2006, 5, 20, 2, 9, 12),\n",
       " datetime.datetime(2006, 5, 20, 2, 9, 27),\n",
       " datetime.datetime(2006, 5, 20, 2, 9, 42),\n",
       " datetime.datetime(2006, 5, 20, 2, 9, 57),\n",
       " datetime.datetime(2006, 5, 20, 2, 10, 12),\n",
       " datetime.datetime(2006, 5, 20, 2, 10, 27),\n",
       " datetime.datetime(2006, 5, 20, 2, 10, 42),\n",
       " datetime.datetime(2006, 5, 20, 2, 10, 57),\n",
       " datetime.datetime(2006, 5, 20, 2, 11, 12),\n",
       " datetime.datetime(2006, 5, 20, 2, 11, 27),\n",
       " datetime.datetime(2006, 5, 20, 2, 11, 42),\n",
       " datetime.datetime(2006, 5, 20, 2, 11, 57),\n",
       " datetime.datetime(2006, 5, 20, 2, 12, 12),\n",
       " datetime.datetime(2006, 5, 20, 2, 12, 27),\n",
       " datetime.datetime(2006, 5, 20, 2, 12, 42),\n",
       " datetime.datetime(2006, 5, 20, 2, 12, 57),\n",
       " datetime.datetime(2006, 5, 20, 2, 13, 12),\n",
       " datetime.datetime(2006, 5, 20, 2, 13, 27),\n",
       " datetime.datetime(2006, 5, 20, 2, 13, 42),\n",
       " datetime.datetime(2006, 5, 20, 2, 13, 57),\n",
       " datetime.datetime(2006, 5, 20, 2, 14, 12),\n",
       " datetime.datetime(2006, 5, 20, 2, 14, 27),\n",
       " datetime.datetime(2006, 5, 20, 2, 14, 42),\n",
       " datetime.datetime(2006, 5, 20, 2, 14, 57),\n",
       " datetime.datetime(2006, 5, 20, 2, 15, 12),\n",
       " datetime.datetime(2006, 5, 20, 2, 15, 27),\n",
       " datetime.datetime(2006, 5, 20, 2, 15, 42),\n",
       " datetime.datetime(2006, 5, 20, 2, 15, 57),\n",
       " datetime.datetime(2006, 5, 20, 2, 16, 12),\n",
       " datetime.datetime(2006, 5, 20, 2, 16, 27),\n",
       " datetime.datetime(2006, 5, 20, 2, 16, 42),\n",
       " datetime.datetime(2006, 5, 20, 2, 16, 57),\n",
       " datetime.datetime(2006, 5, 20, 2, 17, 12),\n",
       " datetime.datetime(2006, 5, 20, 2, 17, 27),\n",
       " datetime.datetime(2006, 5, 20, 2, 17, 42),\n",
       " datetime.datetime(2006, 5, 20, 2, 17, 57),\n",
       " datetime.datetime(2006, 5, 20, 2, 18, 12),\n",
       " datetime.datetime(2006, 5, 20, 2, 18, 27),\n",
       " datetime.datetime(2006, 5, 20, 2, 18, 42),\n",
       " datetime.datetime(2006, 5, 20, 2, 18, 57),\n",
       " datetime.datetime(2006, 5, 20, 2, 19, 12),\n",
       " datetime.datetime(2006, 5, 20, 2, 19, 27),\n",
       " datetime.datetime(2006, 5, 20, 2, 19, 42),\n",
       " datetime.datetime(2006, 5, 20, 2, 19, 57),\n",
       " datetime.datetime(2006, 5, 20, 2, 20, 12),\n",
       " datetime.datetime(2006, 5, 20, 2, 20, 27),\n",
       " datetime.datetime(2006, 5, 20, 2, 20, 42),\n",
       " datetime.datetime(2006, 5, 20, 2, 20, 57),\n",
       " datetime.datetime(2006, 5, 20, 2, 21, 12),\n",
       " datetime.datetime(2006, 5, 20, 2, 21, 27),\n",
       " datetime.datetime(2006, 5, 20, 2, 21, 42),\n",
       " datetime.datetime(2006, 5, 20, 2, 21, 57),\n",
       " datetime.datetime(2006, 5, 20, 2, 22, 12),\n",
       " datetime.datetime(2006, 5, 20, 2, 22, 27),\n",
       " datetime.datetime(2006, 5, 20, 2, 22, 42),\n",
       " datetime.datetime(2006, 5, 20, 2, 22, 57),\n",
       " datetime.datetime(2006, 5, 20, 2, 23, 13),\n",
       " datetime.datetime(2006, 5, 20, 2, 23, 28),\n",
       " datetime.datetime(2006, 5, 20, 2, 23, 43),\n",
       " datetime.datetime(2006, 5, 20, 2, 23, 58),\n",
       " datetime.datetime(2006, 5, 20, 2, 24, 13),\n",
       " datetime.datetime(2006, 5, 20, 2, 24, 28),\n",
       " datetime.datetime(2006, 5, 20, 2, 24, 43),\n",
       " datetime.datetime(2006, 5, 20, 2, 24, 58),\n",
       " datetime.datetime(2006, 5, 20, 2, 25, 13),\n",
       " datetime.datetime(2006, 5, 20, 2, 25, 28),\n",
       " datetime.datetime(2006, 5, 20, 2, 25, 43),\n",
       " datetime.datetime(2006, 5, 20, 2, 25, 58),\n",
       " datetime.datetime(2006, 5, 20, 2, 26, 13),\n",
       " datetime.datetime(2006, 5, 20, 2, 26, 28),\n",
       " datetime.datetime(2006, 5, 20, 2, 26, 43),\n",
       " datetime.datetime(2006, 5, 20, 2, 26, 58),\n",
       " datetime.datetime(2006, 5, 20, 2, 27, 13),\n",
       " datetime.datetime(2006, 5, 20, 2, 27, 28),\n",
       " datetime.datetime(2006, 5, 20, 2, 27, 43),\n",
       " datetime.datetime(2006, 5, 20, 2, 27, 58),\n",
       " datetime.datetime(2006, 5, 20, 2, 28, 13),\n",
       " datetime.datetime(2006, 5, 20, 2, 28, 28),\n",
       " datetime.datetime(2006, 5, 20, 2, 28, 43),\n",
       " datetime.datetime(2006, 5, 20, 2, 28, 58),\n",
       " datetime.datetime(2006, 5, 20, 2, 29, 13),\n",
       " datetime.datetime(2006, 5, 20, 2, 29, 28),\n",
       " datetime.datetime(2006, 5, 20, 2, 29, 43),\n",
       " datetime.datetime(2006, 5, 20, 2, 29, 58),\n",
       " datetime.datetime(2006, 5, 20, 2, 30, 13),\n",
       " datetime.datetime(2006, 5, 20, 2, 30, 28),\n",
       " datetime.datetime(2006, 5, 20, 2, 30, 43),\n",
       " datetime.datetime(2006, 5, 20, 2, 30, 58),\n",
       " datetime.datetime(2006, 5, 20, 2, 31, 13),\n",
       " datetime.datetime(2006, 5, 20, 2, 31, 28),\n",
       " datetime.datetime(2006, 5, 20, 2, 31, 43),\n",
       " datetime.datetime(2006, 5, 20, 2, 31, 58),\n",
       " datetime.datetime(2006, 5, 20, 2, 32, 13),\n",
       " datetime.datetime(2006, 5, 20, 2, 32, 28),\n",
       " datetime.datetime(2006, 5, 20, 2, 32, 43),\n",
       " datetime.datetime(2006, 5, 20, 2, 32, 58),\n",
       " datetime.datetime(2006, 5, 20, 2, 33, 13),\n",
       " datetime.datetime(2006, 5, 20, 2, 33, 28),\n",
       " datetime.datetime(2006, 5, 20, 2, 33, 43),\n",
       " datetime.datetime(2006, 5, 20, 2, 33, 58),\n",
       " datetime.datetime(2006, 5, 20, 2, 34, 13),\n",
       " datetime.datetime(2006, 5, 20, 2, 34, 28),\n",
       " datetime.datetime(2006, 5, 20, 2, 34, 43),\n",
       " datetime.datetime(2006, 5, 20, 2, 34, 58),\n",
       " datetime.datetime(2006, 5, 20, 2, 35, 13),\n",
       " datetime.datetime(2006, 5, 20, 2, 35, 28),\n",
       " datetime.datetime(2006, 5, 20, 2, 35, 43),\n",
       " datetime.datetime(2006, 5, 20, 2, 35, 58),\n",
       " datetime.datetime(2006, 5, 20, 2, 36, 13),\n",
       " datetime.datetime(2006, 5, 20, 2, 36, 28),\n",
       " datetime.datetime(2006, 5, 20, 2, 36, 43),\n",
       " datetime.datetime(2006, 5, 20, 2, 36, 58),\n",
       " datetime.datetime(2006, 5, 20, 2, 37, 13),\n",
       " datetime.datetime(2006, 5, 20, 2, 37, 28),\n",
       " datetime.datetime(2006, 5, 20, 2, 37, 43),\n",
       " datetime.datetime(2006, 5, 20, 2, 37, 58),\n",
       " datetime.datetime(2006, 5, 20, 2, 38, 13),\n",
       " datetime.datetime(2006, 5, 20, 2, 38, 28),\n",
       " datetime.datetime(2006, 5, 20, 2, 38, 43),\n",
       " datetime.datetime(2006, 5, 20, 2, 38, 58),\n",
       " datetime.datetime(2006, 5, 20, 2, 39, 14),\n",
       " datetime.datetime(2006, 5, 20, 2, 39, 29),\n",
       " datetime.datetime(2006, 5, 20, 2, 39, 44),\n",
       " datetime.datetime(2006, 5, 20, 2, 39, 59),\n",
       " datetime.datetime(2006, 5, 20, 2, 40, 14),\n",
       " datetime.datetime(2006, 5, 20, 2, 40, 29),\n",
       " datetime.datetime(2006, 5, 20, 2, 40, 44),\n",
       " datetime.datetime(2006, 5, 20, 2, 40, 59),\n",
       " datetime.datetime(2006, 5, 20, 2, 41, 14),\n",
       " datetime.datetime(2006, 5, 20, 2, 41, 29),\n",
       " datetime.datetime(2006, 5, 20, 2, 41, 44),\n",
       " datetime.datetime(2006, 5, 20, 2, 41, 59),\n",
       " datetime.datetime(2006, 5, 20, 2, 42, 15),\n",
       " datetime.datetime(2006, 5, 20, 2, 42, 30),\n",
       " datetime.datetime(2006, 5, 20, 2, 42, 45),\n",
       " datetime.datetime(2006, 5, 20, 2, 43),\n",
       " datetime.datetime(2006, 5, 20, 2, 43, 15),\n",
       " datetime.datetime(2006, 5, 20, 2, 43, 30),\n",
       " datetime.datetime(2006, 5, 20, 2, 43, 45),\n",
       " datetime.datetime(2006, 5, 20, 2, 44),\n",
       " datetime.datetime(2006, 5, 20, 2, 44, 15),\n",
       " datetime.datetime(2006, 5, 20, 2, 44, 30),\n",
       " datetime.datetime(2006, 5, 20, 2, 44, 45),\n",
       " datetime.datetime(2006, 5, 20, 2, 45),\n",
       " datetime.datetime(2006, 5, 20, 2, 45, 15),\n",
       " datetime.datetime(2006, 5, 20, 2, 45, 30),\n",
       " datetime.datetime(2006, 5, 20, 2, 45, 45),\n",
       " datetime.datetime(2006, 5, 20, 2, 46),\n",
       " datetime.datetime(2006, 5, 20, 2, 46, 15),\n",
       " datetime.datetime(2006, 5, 20, 2, 46, 30),\n",
       " datetime.datetime(2006, 5, 20, 2, 46, 45),\n",
       " datetime.datetime(2006, 5, 20, 2, 47),\n",
       " datetime.datetime(2006, 5, 20, 2, 47, 15),\n",
       " datetime.datetime(2006, 5, 20, 2, 47, 30),\n",
       " datetime.datetime(2006, 5, 20, 2, 47, 45),\n",
       " datetime.datetime(2006, 5, 20, 2, 48),\n",
       " datetime.datetime(2006, 5, 20, 2, 48, 15),\n",
       " datetime.datetime(2006, 5, 20, 2, 48, 30),\n",
       " datetime.datetime(2006, 5, 20, 2, 48, 45),\n",
       " datetime.datetime(2006, 5, 20, 2, 49),\n",
       " datetime.datetime(2006, 5, 20, 2, 49, 15),\n",
       " datetime.datetime(2006, 5, 20, 2, 49, 30),\n",
       " datetime.datetime(2006, 5, 20, 2, 49, 45),\n",
       " datetime.datetime(2006, 5, 20, 2, 50),\n",
       " datetime.datetime(2006, 5, 20, 2, 50, 15),\n",
       " datetime.datetime(2006, 5, 20, 2, 50, 30),\n",
       " datetime.datetime(2006, 5, 20, 2, 50, 45),\n",
       " datetime.datetime(2006, 5, 20, 2, 51),\n",
       " datetime.datetime(2006, 5, 20, 2, 51, 15),\n",
       " datetime.datetime(2006, 5, 20, 2, 51, 30),\n",
       " datetime.datetime(2006, 5, 20, 2, 51, 45),\n",
       " datetime.datetime(2006, 5, 20, 2, 52),\n",
       " datetime.datetime(2006, 5, 20, 2, 52, 15),\n",
       " datetime.datetime(2006, 5, 20, 2, 52, 30),\n",
       " datetime.datetime(2006, 5, 20, 2, 52, 45),\n",
       " datetime.datetime(2006, 5, 20, 2, 53, 1),\n",
       " datetime.datetime(2006, 5, 20, 2, 53, 16),\n",
       " datetime.datetime(2006, 5, 20, 2, 53, 31),\n",
       " datetime.datetime(2006, 5, 20, 2, 53, 46),\n",
       " datetime.datetime(2006, 5, 20, 2, 54, 1),\n",
       " datetime.datetime(2006, 5, 20, 2, 54, 16),\n",
       " datetime.datetime(2006, 5, 20, 2, 54, 31),\n",
       " datetime.datetime(2006, 5, 20, 2, 54, 46),\n",
       " datetime.datetime(2006, 5, 20, 2, 55, 1),\n",
       " datetime.datetime(2006, 5, 20, 2, 55, 16),\n",
       " datetime.datetime(2006, 5, 20, 2, 55, 31),\n",
       " datetime.datetime(2006, 5, 20, 2, 55, 46),\n",
       " datetime.datetime(2006, 5, 20, 2, 56, 1),\n",
       " datetime.datetime(2006, 5, 20, 2, 56, 16),\n",
       " datetime.datetime(2006, 5, 20, 2, 56, 31),\n",
       " datetime.datetime(2006, 5, 20, 2, 56, 46),\n",
       " datetime.datetime(2006, 5, 20, 2, 57, 1),\n",
       " datetime.datetime(2006, 5, 20, 2, 57, 16),\n",
       " datetime.datetime(2006, 5, 20, 2, 57, 31),\n",
       " datetime.datetime(2006, 5, 20, 2, 57, 46),\n",
       " datetime.datetime(2006, 5, 20, 2, 58, 1),\n",
       " datetime.datetime(2006, 5, 20, 2, 58, 16),\n",
       " datetime.datetime(2006, 5, 20, 2, 58, 31),\n",
       " datetime.datetime(2006, 5, 20, 2, 58, 46),\n",
       " datetime.datetime(2006, 5, 20, 2, 59, 1),\n",
       " datetime.datetime(2006, 5, 20, 2, 59, 16),\n",
       " datetime.datetime(2006, 5, 20, 2, 59, 31),\n",
       " datetime.datetime(2006, 5, 20, 2, 59, 46),\n",
       " datetime.datetime(2006, 5, 20, 3, 0, 1),\n",
       " datetime.datetime(2006, 5, 20, 3, 0, 16),\n",
       " datetime.datetime(2006, 5, 20, 3, 0, 31),\n",
       " datetime.datetime(2006, 5, 20, 3, 0, 46),\n",
       " datetime.datetime(2006, 5, 20, 3, 1, 1),\n",
       " datetime.datetime(2006, 5, 20, 3, 1, 16),\n",
       " datetime.datetime(2006, 5, 20, 3, 1, 31),\n",
       " datetime.datetime(2006, 5, 20, 3, 1, 46),\n",
       " datetime.datetime(2006, 5, 20, 3, 2, 1),\n",
       " datetime.datetime(2006, 5, 20, 3, 2, 16),\n",
       " datetime.datetime(2006, 5, 20, 3, 2, 31),\n",
       " datetime.datetime(2006, 5, 20, 3, 2, 46),\n",
       " datetime.datetime(2006, 5, 20, 3, 3, 1),\n",
       " datetime.datetime(2006, 5, 20, 3, 3, 16),\n",
       " datetime.datetime(2006, 5, 20, 3, 3, 31),\n",
       " datetime.datetime(2006, 5, 20, 3, 3, 46),\n",
       " datetime.datetime(2006, 5, 20, 3, 4, 1),\n",
       " datetime.datetime(2006, 5, 20, 3, 4, 16),\n",
       " datetime.datetime(2006, 5, 20, 3, 4, 31),\n",
       " datetime.datetime(2006, 5, 20, 3, 4, 46),\n",
       " datetime.datetime(2006, 5, 20, 3, 5, 1),\n",
       " datetime.datetime(2006, 5, 20, 3, 5, 16),\n",
       " datetime.datetime(2006, 5, 20, 3, 5, 31),\n",
       " datetime.datetime(2006, 5, 20, 3, 5, 46),\n",
       " datetime.datetime(2006, 5, 20, 3, 6, 1),\n",
       " datetime.datetime(2006, 5, 20, 3, 6, 16),\n",
       " datetime.datetime(2006, 5, 20, 3, 6, 31),\n",
       " datetime.datetime(2006, 5, 20, 3, 6, 46),\n",
       " datetime.datetime(2006, 5, 20, 3, 7, 1),\n",
       " datetime.datetime(2006, 5, 20, 3, 7, 16),\n",
       " datetime.datetime(2006, 5, 20, 3, 7, 31),\n",
       " datetime.datetime(2006, 5, 20, 3, 7, 46),\n",
       " datetime.datetime(2006, 5, 20, 3, 8, 1),\n",
       " datetime.datetime(2006, 5, 20, 3, 8, 16),\n",
       " datetime.datetime(2006, 5, 20, 3, 8, 31),\n",
       " datetime.datetime(2006, 5, 20, 3, 8, 46),\n",
       " datetime.datetime(2006, 5, 20, 3, 9, 1),\n",
       " datetime.datetime(2006, 5, 20, 3, 9, 16),\n",
       " datetime.datetime(2006, 5, 20, 3, 9, 31),\n",
       " datetime.datetime(2006, 5, 20, 3, 9, 46),\n",
       " datetime.datetime(2006, 5, 20, 3, 10, 1),\n",
       " datetime.datetime(2006, 5, 20, 3, 10, 16),\n",
       " datetime.datetime(2006, 5, 20, 3, 10, 31),\n",
       " datetime.datetime(2006, 5, 20, 3, 10, 46),\n",
       " datetime.datetime(2006, 5, 20, 3, 11, 1),\n",
       " datetime.datetime(2006, 5, 20, 3, 11, 16),\n",
       " datetime.datetime(2006, 5, 20, 3, 11, 31),\n",
       " datetime.datetime(2006, 5, 20, 3, 11, 46),\n",
       " datetime.datetime(2006, 5, 20, 3, 12, 1),\n",
       " datetime.datetime(2006, 5, 20, 3, 12, 16),\n",
       " datetime.datetime(2006, 5, 20, 3, 12, 31),\n",
       " datetime.datetime(2006, 5, 20, 3, 12, 46),\n",
       " datetime.datetime(2006, 5, 20, 3, 13, 1),\n",
       " datetime.datetime(2006, 5, 20, 3, 13, 16),\n",
       " datetime.datetime(2006, 5, 20, 3, 13, 31),\n",
       " datetime.datetime(2006, 5, 20, 3, 13, 46),\n",
       " datetime.datetime(2006, 5, 20, 3, 14, 1),\n",
       " datetime.datetime(2006, 5, 20, 3, 14, 16),\n",
       " datetime.datetime(2006, 5, 20, 3, 14, 31),\n",
       " datetime.datetime(2006, 5, 20, 3, 14, 46),\n",
       " datetime.datetime(2006, 5, 20, 3, 15, 1),\n",
       " datetime.datetime(2006, 5, 20, 3, 15, 16),\n",
       " datetime.datetime(2006, 5, 20, 3, 15, 31),\n",
       " datetime.datetime(2006, 5, 20, 3, 15, 46),\n",
       " datetime.datetime(2006, 5, 20, 3, 16, 1),\n",
       " datetime.datetime(2006, 5, 20, 3, 16, 16),\n",
       " datetime.datetime(2006, 5, 20, 3, 16, 31),\n",
       " datetime.datetime(2006, 5, 20, 3, 16, 46),\n",
       " datetime.datetime(2006, 5, 20, 3, 17, 1),\n",
       " datetime.datetime(2006, 5, 20, 3, 17, 16),\n",
       " datetime.datetime(2006, 5, 20, 3, 17, 31),\n",
       " datetime.datetime(2006, 5, 20, 3, 17, 46),\n",
       " datetime.datetime(2006, 5, 20, 3, 18, 1),\n",
       " datetime.datetime(2006, 5, 20, 3, 18, 16),\n",
       " datetime.datetime(2006, 5, 20, 3, 18, 31),\n",
       " datetime.datetime(2006, 5, 20, 3, 18, 46),\n",
       " datetime.datetime(2006, 5, 20, 3, 19, 1),\n",
       " datetime.datetime(2006, 5, 20, 3, 19, 16),\n",
       " datetime.datetime(2006, 5, 20, 3, 19, 31),\n",
       " datetime.datetime(2006, 5, 20, 3, 19, 46),\n",
       " datetime.datetime(2006, 5, 20, 3, 20, 1),\n",
       " datetime.datetime(2006, 5, 20, 3, 20, 16),\n",
       " datetime.datetime(2006, 5, 20, 3, 20, 31),\n",
       " datetime.datetime(2006, 5, 20, 3, 20, 46),\n",
       " datetime.datetime(2006, 5, 20, 3, 21, 1),\n",
       " datetime.datetime(2006, 5, 20, 3, 21, 16),\n",
       " datetime.datetime(2006, 5, 20, 3, 21, 31),\n",
       " datetime.datetime(2006, 5, 20, 3, 21, 46),\n",
       " datetime.datetime(2006, 5, 20, 3, 22, 1),\n",
       " datetime.datetime(2006, 5, 20, 3, 22, 16),\n",
       " datetime.datetime(2006, 5, 20, 3, 22, 31),\n",
       " datetime.datetime(2006, 5, 20, 3, 22, 46),\n",
       " datetime.datetime(2006, 5, 20, 3, 23, 1),\n",
       " datetime.datetime(2006, 5, 20, 3, 23, 16),\n",
       " datetime.datetime(2006, 5, 20, 3, 23, 31),\n",
       " datetime.datetime(2006, 5, 20, 3, 23, 46),\n",
       " datetime.datetime(2006, 5, 20, 3, 24, 1),\n",
       " datetime.datetime(2006, 5, 20, 3, 24, 16),\n",
       " datetime.datetime(2006, 5, 20, 3, 24, 31),\n",
       " datetime.datetime(2006, 5, 20, 3, 24, 46),\n",
       " datetime.datetime(2006, 5, 20, 3, 25, 1),\n",
       " datetime.datetime(2006, 5, 20, 3, 25, 16),\n",
       " datetime.datetime(2006, 5, 20, 3, 25, 31),\n",
       " datetime.datetime(2006, 5, 20, 3, 25, 46),\n",
       " datetime.datetime(2006, 5, 20, 3, 26, 1),\n",
       " datetime.datetime(2006, 5, 20, 3, 26, 16),\n",
       " datetime.datetime(2006, 5, 20, 3, 26, 31),\n",
       " datetime.datetime(2006, 5, 20, 3, 26, 46),\n",
       " datetime.datetime(2006, 5, 20, 3, 27, 1),\n",
       " datetime.datetime(2006, 5, 20, 3, 27, 16),\n",
       " datetime.datetime(2006, 5, 20, 3, 27, 31),\n",
       " datetime.datetime(2006, 5, 20, 3, 27, 46),\n",
       " datetime.datetime(2006, 5, 20, 3, 28, 1),\n",
       " datetime.datetime(2006, 5, 20, 3, 28, 16),\n",
       " datetime.datetime(2006, 5, 20, 3, 28, 32),\n",
       " datetime.datetime(2006, 5, 20, 3, 28, 47),\n",
       " datetime.datetime(2006, 5, 20, 3, 29, 2),\n",
       " datetime.datetime(2006, 5, 20, 3, 29, 17),\n",
       " datetime.datetime(2006, 5, 20, 3, 29, 32),\n",
       " datetime.datetime(2006, 5, 20, 3, 29, 47),\n",
       " datetime.datetime(2006, 5, 20, 3, 30, 2),\n",
       " datetime.datetime(2006, 5, 20, 3, 30, 17),\n",
       " datetime.datetime(2006, 5, 20, 3, 30, 32),\n",
       " datetime.datetime(2006, 5, 20, 3, 30, 47),\n",
       " datetime.datetime(2006, 5, 20, 3, 31, 2),\n",
       " datetime.datetime(2006, 5, 20, 3, 31, 17),\n",
       " datetime.datetime(2006, 5, 20, 3, 31, 32),\n",
       " datetime.datetime(2006, 5, 20, 3, 31, 47),\n",
       " datetime.datetime(2006, 5, 20, 3, 31, 48)]"
      ]
     },
     "execution_count": 5,
     "metadata": {},
     "output_type": "execute_result"
    }
   ],
   "source": [
    "#parses the dates and times to separate year, month, day, hour, minute, and second to form datetime objects for each time\n",
    "dat.seek(0)\n",
    "import datetime\n",
    "\n",
    "datenum=[]\n",
    "for line in dat.readlines():\n",
    "    data=line.split()\n",
    "    if not data: continue\n",
    "    if data[0]=='Track' and data[1]!='ACTIVE': break\n",
    "    if data[0]=='Trackpoint':\n",
    "        m=int(data[5][0])\n",
    "        d=int(data[5][2:4])\n",
    "        y=int(data[5][5:])\n",
    "        h=int(data[6][0])\n",
    "        mn=int(data[6][2:4])\n",
    "        s=int(data[6][5:])\n",
    "        date=datetime.datetime(y,m,d,h,mn,s)\n",
    "        datenum.append(date)\n",
    "datenum"
   ]
  },
  {
   "cell_type": "markdown",
   "metadata": {},
   "source": [
    "*_Grad students:_* Separately, read in the locations and speed at all data points for each drifter. Create a dictionary with the name of each track as a key. The value of the dictionary will be another dictionary that has keys `latitude`, `longitude`, and `speed`.  That is, `gps['GANDALF']['speed']` will return a list containing a timeseries of the speed of that track."
   ]
  },
  {
   "cell_type": "code",
   "execution_count": 6,
   "metadata": {
    "collapsed": false
   },
   "outputs": [
    {
     "name": "stdout",
     "output_type": "stream",
     "text": [
      "[6, 480, 508, 546, 554, 617]\n",
      "['ACTIVE', 'LEGOLAS', 'MERIADOC', 'SAMWISE', 'STRIDER']\n",
      "dict_keys(['STRIDER', 'LEGOLAS', 'ACTIVE', 'SAMWISE', 'MERIADOC'])\n"
     ]
    },
    {
     "data": {
      "text/plain": [
       "{'lat': [42.82365,\n",
       "  42.8219,\n",
       "  42.82021666666667,\n",
       "  42.81923333333334,\n",
       "  42.81735,\n",
       "  42.81453333333333,\n",
       "  42.81465,\n",
       "  42.814616666666666,\n",
       "  42.81446666666667,\n",
       "  42.814433333333334,\n",
       "  42.81401666666667,\n",
       "  42.8137,\n",
       "  42.81365,\n",
       "  42.8136,\n",
       "  42.8135,\n",
       "  42.81346666666666,\n",
       "  42.81345,\n",
       "  42.8134,\n",
       "  42.81333333333333,\n",
       "  42.81126666666667,\n",
       "  42.811033333333334,\n",
       "  42.810966666666666,\n",
       "  42.810916666666664],\n",
       " 'long': [70.76256666666667,\n",
       "  70.76495,\n",
       "  70.76796666666667,\n",
       "  70.77068333333334,\n",
       "  70.7748,\n",
       "  70.79083333333334,\n",
       "  70.78935,\n",
       "  70.78778333333334,\n",
       "  70.78701666666667,\n",
       "  70.7867,\n",
       "  70.78478333333334,\n",
       "  70.78305,\n",
       "  70.78275,\n",
       "  70.78248333333333,\n",
       "  70.78195,\n",
       "  70.78166666666667,\n",
       "  70.78143333333334,\n",
       "  70.78118333333333,\n",
       "  70.78091666666667,\n",
       "  70.77166666666666,\n",
       "  70.77075,\n",
       "  70.77051666666667,\n",
       "  70.77025],\n",
       " 'speed': [[],\n",
       "  [],\n",
       "  [],\n",
       "  [],\n",
       "  [],\n",
       "  [],\n",
       "  [],\n",
       "  [],\n",
       "  [],\n",
       "  [],\n",
       "  [],\n",
       "  [],\n",
       "  [],\n",
       "  [],\n",
       "  [],\n",
       "  [],\n",
       "  [],\n",
       "  [],\n",
       "  [],\n",
       "  [],\n",
       "  [],\n",
       "  [],\n",
       "  []]}"
      ]
     },
     "execution_count": 6,
     "metadata": {},
     "output_type": "execute_result"
    }
   ],
   "source": [
    "dat.seek(0)\n",
    "cttracks=[]\n",
    "trackname=[]\n",
    "d=[]\n",
    "ctlines=0\n",
    "\n",
    "#This block of code finds the line number within the GPS.dat file that \n",
    "#contains the names of the drifter by finding the lines that start with 'Track'\n",
    "#It also returns a list of the drifter names from the GPS.dat file and turns the \n",
    "#data lines into a list of lists\n",
    "\n",
    "for line in dat.readlines():\n",
    "    data=line.split()\n",
    "    d.append(data)\n",
    "    ctlines+=1\n",
    "    if not data: continue\n",
    "    if data[0]=='Track':\n",
    "        cttracks.append(ctlines)\n",
    "        trackname.append(data[1])\n",
    "cttracks.append(ctlines)\n",
    "print(cttracks) \n",
    "print(trackname)\n",
    "\n",
    "#Creates an empty dictionary and empty lists for lats, longs, and speed\n",
    "\n",
    "dict={}\n",
    "lats=[]\n",
    "long=[]\n",
    "speed=[]\n",
    "#Creates dictionary entry for drifter Active Log\n",
    "for entries in range(cttracks[0],cttracks[1]):\n",
    "    if d[entries]==[]: continue\n",
    "    if d[entries][0]=='Trackpoint' and len(d[entries])>11:\n",
    "        lat = float(d[entries][1][1:]) + float(d[entries][2])/60.0\n",
    "        lats.append(lat)\n",
    "        lon = int(d[entries][3][1:]) + float(d[entries][4])/60.0\n",
    "        long.append(lon)\n",
    "        speed.append(float(d[entries][13]))\n",
    "    dict[trackname[0]]={'lat':list(lats),'long':list(long),'speed':list(speed)}\n",
    "\n",
    "lats=[]\n",
    "long=[]\n",
    "speed=[]\n",
    "#Creates dictionary entry for drifter Legolas\n",
    "for entries in range(cttracks[1],cttracks[2]):\n",
    "    if d[entries]==[]: continue\n",
    "    if d[entries][0]=='Trackpoint':\n",
    "        lat = float(d[entries][1][1:]) + float(d[entries][2])/60.0\n",
    "        lats.append(lat)\n",
    "        lon = int(d[entries][3][1:]) + float(d[entries][4])/60.0\n",
    "        long.append(lon)\n",
    "        #returns an empty list is there is no entry where the speed should be\n",
    "        if len(d[entries])<13:\n",
    "            speed.append([])\n",
    "        dict[trackname[1]]={'lat':list(lats),'long':list(long),'speed':list(speed)}\n",
    "\n",
    "lats=[]\n",
    "long=[]\n",
    "speed=[]\n",
    "#Creates dictionary entry for drifter Meriadoc\n",
    "for entries in range(cttracks[2],cttracks[3]):\n",
    "    if d[entries]==[]: continue\n",
    "    if d[entries][0]=='Trackpoint':\n",
    "        lat = float(d[entries][1][1:]) + float(d[entries][2])/60.0\n",
    "        lats.append(lat)\n",
    "        lon = int(d[entries][3][1:]) + float(d[entries][4])/60.0\n",
    "        long.append(lon)\n",
    "        if len(d[entries])<13:\n",
    "            speed.append([])\n",
    "    dict[trackname[2]]={'lat':list(lats),'long':list(long),'speed':list(speed)}\n",
    "\n",
    "lats=[]\n",
    "long=[]\n",
    "speed=[]\n",
    "#Creates dictionary entry for drifter Samwise\n",
    "for entries in range(cttracks[3],cttracks[4]):\n",
    "    if d[entries]==[]: continue\n",
    "    if d[entries][0]=='Trackpoint':\n",
    "        lat = float(d[entries][1][1:]) + float(d[entries][2])/60.0\n",
    "        lats.append(lat)\n",
    "        lon = int(d[entries][3][1:]) + float(d[entries][4])/60.0\n",
    "        long.append(lon)\n",
    "        if len(d[entries])<13:\n",
    "            speed.append([])\n",
    "    dict[trackname[3]]={'lat':list(lats),'long':list(long),'speed':list(speed)}\n",
    "\n",
    "lats=[]\n",
    "long=[]\n",
    "speed=[]\n",
    "#Creates dictionary entry for drifter Strider\n",
    "for entries in range(cttracks[4],cttracks[5]):\n",
    "    if d[entries]==[]: continue\n",
    "    if d[entries][0]=='Trackpoint':\n",
    "        lat = float(d[entries][1][1:]) + float(d[entries][2])/60.0\n",
    "        lats.append(lat)\n",
    "        lon = int(d[entries][3][1:]) + float(d[entries][4])/60.0\n",
    "        long.append(lon)\n",
    "        if len(d[entries])<13:\n",
    "            speed.append([])\n",
    "    dict[trackname[4]]={'lat':list(lats),'long':list(long),'speed':list(speed)}\n",
    "        \n",
    "print(dict.keys())       \n",
    "dict['LEGOLAS'] #All drifter dictionaries have the same format it is just \n",
    "                #very long if I print the entire dictionary so this is just \n",
    "                #the lat, long, and speed data for the LEGOLAS drifter.\n",
    "        "
   ]
  },
  {
   "cell_type": "markdown",
   "metadata": {
    "collapsed": true
   },
   "source": [
    "### 11. Constructing terms in a Taylor series to approximate a function\n",
    "\n",
    "The Taylor series expansion for the sine function is given by \n",
    "$$ \\text{sin}(x) = \\Sigma^\\infty_{k=0} \\frac{(-1)^k x^{1+2k}}{(1+2k)!}$$\n",
    "\n",
    "This expression gives an exact form for sin(x) when an infinite number of terms are used; any truncation gives an approximation. Write a loop that constructs terms from $k=0$ up to $k=N$. Don't use any function for the factorial since we haven't gotten to NumPy... create it yourself, instead. Provide the value of sin(0.5) with N=5 terms. How many terms do you need to include before the answer starts to plateau?"
   ]
  },
  {
   "cell_type": "code",
   "execution_count": 21,
   "metadata": {
    "collapsed": false
   },
   "outputs": [
    {
     "name": "stdout",
     "output_type": "stream",
     "text": [
      "0.4794255386164159\n"
     ]
    }
   ],
   "source": [
    "#calculating sin(x) with x=0.5 and N=5\n",
    "N=5\n",
    "x=.5\n",
    "l=0\n",
    "\n",
    "#function to calculate the factorial of a given numbe a\n",
    "def fact(a):\n",
    "    if a==0:  #factorial of zero = 1\n",
    "        f=1\n",
    "    else:\n",
    "        f=1\n",
    "        nums=list(range(1,a+1))\n",
    "        for i in nums:\n",
    "            f*=i\n",
    "        return f   #returns the factorial, f, of a number, a\n",
    "\n",
    "for k in range(N):\n",
    "    num=1+2*k \n",
    "    l+=((-1)**k)*(x**(1+2*k))/fact(num)  #calls the factorial function defined above\n",
    "print(l)"
   ]
  }
 ],
 "metadata": {
  "kernelspec": {
   "display_name": "Python 3",
   "language": "python",
   "name": "python3"
  },
  "language_info": {
   "codemirror_mode": {
    "name": "ipython",
    "version": 3
   },
   "file_extension": ".py",
   "mimetype": "text/x-python",
   "name": "python",
   "nbconvert_exporter": "python",
   "pygments_lexer": "ipython3",
   "version": "3.5.1"
  }
 },
 "nbformat": 4,
 "nbformat_minor": 0
}
