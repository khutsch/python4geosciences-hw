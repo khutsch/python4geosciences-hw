{
 "cells": [
  {
   "cell_type": "markdown",
   "metadata": {
    "collapsed": true
   },
   "source": [
    "## Homework 2"
   ]
  },
  {
   "cell_type": "markdown",
   "metadata": {},
   "source": [
    "## 1. Make a dictionary\n",
    "Make a dictionary, d, whose keys and values are your name, hometown, department, student status (undergrad/grad), years at TAMU, and explanation of why you are taking this class."
   ]
  },
  {
   "cell_type": "code",
   "execution_count": 2,
   "metadata": {
    "collapsed": false
   },
   "outputs": [
    {
     "name": "stdout",
     "output_type": "stream",
     "text": [
      "{'Hometown': 'Baltimore', 'Department': 'Ocean Engineering', \"Why I'm taking this class\": 'To use for research', 'Student Status': 'First year grad'}\n"
     ]
    }
   ],
   "source": [
    "KatieHutschenreuter={}\n",
    "KatieHutschenreuter[\"Hometown\"]=\"Baltimore\"\n",
    "KatieHutschenreuter[\"Department\"]=\"Ocean Engineering\"\n",
    "KatieHutschenreuter[\"Student Status\"]=\"First year grad\"\n",
    "KatieHutschenreuter[\"Why I'm taking this class\"]=\"To use for research\"\n",
    "print(KatieHutschenreuter)"
   ]
  },
  {
   "cell_type": "markdown",
   "metadata": {},
   "source": [
    "## 2. Test for vowels\n",
    "Write a function that takes a character (i.e. a string of length 1) and returns True if it is a vowel, False otherwise. "
   ]
  },
  {
   "cell_type": "code",
   "execution_count": 11,
   "metadata": {
    "collapsed": false
   },
   "outputs": [
    {
     "name": "stdout",
     "output_type": "stream",
     "text": [
      "True\n",
      "False\n"
     ]
    }
   ],
   "source": [
    "def isvowel(a):\n",
    "    #a is a string of length 1\n",
    "    if a=='a' or a=='e' or a=='i' or a=='o' or a=='u':\n",
    "        return 'True'\n",
    "    else:\n",
    "        return 'False'\n",
    "print(isvowel('a'))\n",
    "print(isvowel('c'))"
   ]
  },
  {
   "cell_type": "markdown",
   "metadata": {},
   "source": [
    "## 3. Compute the length of a given list or string.\n",
    "Define a function that computes the length of a given list or string. (It is true that Python has the len() function built in, but do not use it for your solution — use a loop instead.)"
   ]
  },
  {
   "cell_type": "code",
   "execution_count": 23,
   "metadata": {
    "collapsed": false
   },
   "outputs": [
    {
     "name": "stdout",
     "output_type": "stream",
     "text": [
      "1\n"
     ]
    }
   ],
   "source": [
    "def length(x):\n",
    "    i=1\n",
    "    if x[i-1] in x =='True':\n",
    "        i=i+1\n",
    "    print(i)\n",
    "length([1, 2, 3, 4, 5])\n",
    "#x=[1, 2, 3]\n",
    "#x[0] in x\n",
    "\n"
   ]
  },
  {
   "cell_type": "code",
   "execution_count": null,
   "metadata": {
    "collapsed": true
   },
   "outputs": [],
   "source": []
  }
 ],
 "metadata": {
  "kernelspec": {
   "display_name": "Python 3",
   "language": "python",
   "name": "python3"
  },
  "language_info": {
   "codemirror_mode": {
    "name": "ipython",
    "version": 3
   },
   "file_extension": ".py",
   "mimetype": "text/x-python",
   "name": "python",
   "nbconvert_exporter": "python",
   "pygments_lexer": "ipython3",
   "version": "3.5.1"
  }
 },
 "nbformat": 4,
 "nbformat_minor": 0
}
